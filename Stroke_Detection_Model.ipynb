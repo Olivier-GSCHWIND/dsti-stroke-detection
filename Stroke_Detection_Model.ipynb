{
 "cells": [
  {
   "cell_type": "markdown",
   "id": "03203f9f-2142-4a7d-961e-e19f704f424d",
   "metadata": {},
   "source": [
    "<div style=\"display: flex; background-color: RGB(255,114,0);\" >\n",
    "<h1 style=\"margin: auto; padding: 30px; \">PROJET: Stroke Detection Model</h1>\n",
    "</div>"
   ]
  },
  {
   "cell_type": "markdown",
   "id": "fb34c687-5b28-412c-adbb-270c047918c6",
   "metadata": {},
   "source": [
    "<div style=\"background-color: RGB(51,165,182);\" >\n",
    "<h2 style=\"margin: auto; padding: 20px; color:#fff; \">Step 1 - Data description</h2>\n",
    "</div>"
   ]
  },
  {
   "cell_type": "markdown",
   "id": "1c4aa802-171c-43f8-ba37-90db75fa7db6",
   "metadata": {},
   "source": [
    "## Dataset attributes:\n",
    "1) id: unique patient identifier\n",
    "2) gender: “Male”, “Female” or “Other”\n",
    "3) age: age of the patient\n",
    "4) hypertension: 0 (if the patient doesn’t have hypertension) or 1 (if the patient has hypertension)\n",
    "5) heart_disease: 0 (if the patient doesn’t have a heart disease) or 1 (if the patient has a heart disease)\n",
    "6) ever_married: “No” or “Yes”\n",
    "7) work_type: “children”, “Govt_job”, “Never_worked”, “Private” or “Self-employed”\n",
    "8) Residence_type: “Rural” or “Urban”\n",
    "9) avg_glucose_level: average glucose level in the blood\n",
    "10) bmi: body mass index\n",
    "11) smoking_status: “formerly smoked”, “never smoked”, “smokes” or “Unknown” (in this case the information for the patient is not available)\n",
    "12) stroke: 1 (if the patient had a stroke) or 0 (if the patient didn’t have a stroke)"
   ]
  },
  {
   "cell_type": "markdown",
   "id": "6d6c680d-9f0b-4303-a06c-bf72aee213d8",
   "metadata": {
    "tags": []
   },
   "source": [
    "<div style=\"border: 1px solid RGB(51,165,182);\" >\n",
    "<h3 style=\"margin: auto; padding: 20px; color: RGB(51,165,182); \">Importations</h3>\n",
    "</div>"
   ]
  },
  {
   "cell_type": "code",
   "execution_count": 1,
   "id": "8e17689c-d94d-47c6-afb3-b7a491b2a5dc",
   "metadata": {
    "tags": []
   },
   "outputs": [],
   "source": [
    "# Libraries\n",
    "import pandas as pd\n",
    "import matplotlib.pyplot as plt\n",
    "import seaborn as sns\n",
    "from sklearn.preprocessing import LabelEncoder\n",
    "from sklearn.preprocessing import MinMaxScaler\n",
    "from sklearn.model_selection import train_test_split\n",
    "from imblearn.over_sampling import SMOTE\n",
    "from sklearn.linear_model import LogisticRegression\n",
    "from sklearn.metrics import confusion_matrix, classification_report, accuracy_score\n",
    "from sklearn.tree import DecisionTreeClassifier\n",
    "from sklearn.ensemble import RandomForestClassifier"
   ]
  },
  {
   "cell_type": "code",
   "execution_count": 2,
   "id": "2f28c24a-3401-4069-96f7-cadadc50af70",
   "metadata": {
    "tags": []
   },
   "outputs": [
    {
     "data": {
      "text/html": [
       "<div>\n",
       "<style scoped>\n",
       "    .dataframe tbody tr th:only-of-type {\n",
       "        vertical-align: middle;\n",
       "    }\n",
       "\n",
       "    .dataframe tbody tr th {\n",
       "        vertical-align: top;\n",
       "    }\n",
       "\n",
       "    .dataframe thead th {\n",
       "        text-align: right;\n",
       "    }\n",
       "</style>\n",
       "<table border=\"1\" class=\"dataframe\">\n",
       "  <thead>\n",
       "    <tr style=\"text-align: right;\">\n",
       "      <th></th>\n",
       "      <th>id</th>\n",
       "      <th>gender</th>\n",
       "      <th>age</th>\n",
       "      <th>hypertension</th>\n",
       "      <th>heart_disease</th>\n",
       "      <th>ever_married</th>\n",
       "      <th>work_type</th>\n",
       "      <th>Residence_type</th>\n",
       "      <th>avg_glucose_level</th>\n",
       "      <th>bmi</th>\n",
       "      <th>smoking_status</th>\n",
       "      <th>stroke</th>\n",
       "    </tr>\n",
       "  </thead>\n",
       "  <tbody>\n",
       "    <tr>\n",
       "      <th>0</th>\n",
       "      <td>9046</td>\n",
       "      <td>Male</td>\n",
       "      <td>67.0</td>\n",
       "      <td>0</td>\n",
       "      <td>1</td>\n",
       "      <td>Yes</td>\n",
       "      <td>Private</td>\n",
       "      <td>Urban</td>\n",
       "      <td>228.69</td>\n",
       "      <td>36.6</td>\n",
       "      <td>formerly smoked</td>\n",
       "      <td>1</td>\n",
       "    </tr>\n",
       "    <tr>\n",
       "      <th>1</th>\n",
       "      <td>51676</td>\n",
       "      <td>Female</td>\n",
       "      <td>61.0</td>\n",
       "      <td>0</td>\n",
       "      <td>0</td>\n",
       "      <td>Yes</td>\n",
       "      <td>Self-employed</td>\n",
       "      <td>Rural</td>\n",
       "      <td>202.21</td>\n",
       "      <td>NaN</td>\n",
       "      <td>never smoked</td>\n",
       "      <td>1</td>\n",
       "    </tr>\n",
       "    <tr>\n",
       "      <th>2</th>\n",
       "      <td>31112</td>\n",
       "      <td>Male</td>\n",
       "      <td>80.0</td>\n",
       "      <td>0</td>\n",
       "      <td>1</td>\n",
       "      <td>Yes</td>\n",
       "      <td>Private</td>\n",
       "      <td>Rural</td>\n",
       "      <td>105.92</td>\n",
       "      <td>32.5</td>\n",
       "      <td>never smoked</td>\n",
       "      <td>1</td>\n",
       "    </tr>\n",
       "    <tr>\n",
       "      <th>3</th>\n",
       "      <td>60182</td>\n",
       "      <td>Female</td>\n",
       "      <td>49.0</td>\n",
       "      <td>0</td>\n",
       "      <td>0</td>\n",
       "      <td>Yes</td>\n",
       "      <td>Private</td>\n",
       "      <td>Urban</td>\n",
       "      <td>171.23</td>\n",
       "      <td>34.4</td>\n",
       "      <td>smokes</td>\n",
       "      <td>1</td>\n",
       "    </tr>\n",
       "    <tr>\n",
       "      <th>4</th>\n",
       "      <td>1665</td>\n",
       "      <td>Female</td>\n",
       "      <td>79.0</td>\n",
       "      <td>1</td>\n",
       "      <td>0</td>\n",
       "      <td>Yes</td>\n",
       "      <td>Self-employed</td>\n",
       "      <td>Rural</td>\n",
       "      <td>174.12</td>\n",
       "      <td>24.0</td>\n",
       "      <td>never smoked</td>\n",
       "      <td>1</td>\n",
       "    </tr>\n",
       "  </tbody>\n",
       "</table>\n",
       "</div>"
      ],
      "text/plain": [
       "      id  gender   age  hypertension  heart_disease ever_married  \\\n",
       "0   9046    Male  67.0             0              1          Yes   \n",
       "1  51676  Female  61.0             0              0          Yes   \n",
       "2  31112    Male  80.0             0              1          Yes   \n",
       "3  60182  Female  49.0             0              0          Yes   \n",
       "4   1665  Female  79.0             1              0          Yes   \n",
       "\n",
       "       work_type Residence_type  avg_glucose_level   bmi   smoking_status  \\\n",
       "0        Private          Urban             228.69  36.6  formerly smoked   \n",
       "1  Self-employed          Rural             202.21   NaN     never smoked   \n",
       "2        Private          Rural             105.92  32.5     never smoked   \n",
       "3        Private          Urban             171.23  34.4           smokes   \n",
       "4  Self-employed          Rural             174.12  24.0     never smoked   \n",
       "\n",
       "   stroke  \n",
       "0       1  \n",
       "1       1  \n",
       "2       1  \n",
       "3       1  \n",
       "4       1  "
      ]
     },
     "execution_count": 2,
     "metadata": {},
     "output_type": "execute_result"
    }
   ],
   "source": [
    "# Sources\n",
    "df = pd.read_csv('stroke_data.csv')\n",
    "df.head()"
   ]
  },
  {
   "cell_type": "markdown",
   "id": "4d15f419-0f84-4f6e-9848-9a07ec3141f4",
   "metadata": {
    "tags": []
   },
   "source": [
    "We see that there is only 1 column with a UPPERcase \"Residence-type\".<br/>\n",
    "We will modify this for more coherency."
   ]
  },
  {
   "cell_type": "code",
   "execution_count": 3,
   "id": "fe1fab9f-2553-4bab-854c-ee995ad8d989",
   "metadata": {
    "tags": []
   },
   "outputs": [
    {
     "data": {
      "text/html": [
       "<div>\n",
       "<style scoped>\n",
       "    .dataframe tbody tr th:only-of-type {\n",
       "        vertical-align: middle;\n",
       "    }\n",
       "\n",
       "    .dataframe tbody tr th {\n",
       "        vertical-align: top;\n",
       "    }\n",
       "\n",
       "    .dataframe thead th {\n",
       "        text-align: right;\n",
       "    }\n",
       "</style>\n",
       "<table border=\"1\" class=\"dataframe\">\n",
       "  <thead>\n",
       "    <tr style=\"text-align: right;\">\n",
       "      <th></th>\n",
       "      <th>id</th>\n",
       "      <th>gender</th>\n",
       "      <th>age</th>\n",
       "      <th>hypertension</th>\n",
       "      <th>heart_disease</th>\n",
       "      <th>ever_married</th>\n",
       "      <th>work_type</th>\n",
       "      <th>residence_type</th>\n",
       "      <th>avg_glucose_level</th>\n",
       "      <th>bmi</th>\n",
       "      <th>smoking_status</th>\n",
       "      <th>stroke</th>\n",
       "    </tr>\n",
       "  </thead>\n",
       "  <tbody>\n",
       "    <tr>\n",
       "      <th>0</th>\n",
       "      <td>9046</td>\n",
       "      <td>Male</td>\n",
       "      <td>67.0</td>\n",
       "      <td>0</td>\n",
       "      <td>1</td>\n",
       "      <td>Yes</td>\n",
       "      <td>Private</td>\n",
       "      <td>Urban</td>\n",
       "      <td>228.69</td>\n",
       "      <td>36.6</td>\n",
       "      <td>formerly smoked</td>\n",
       "      <td>1</td>\n",
       "    </tr>\n",
       "    <tr>\n",
       "      <th>1</th>\n",
       "      <td>51676</td>\n",
       "      <td>Female</td>\n",
       "      <td>61.0</td>\n",
       "      <td>0</td>\n",
       "      <td>0</td>\n",
       "      <td>Yes</td>\n",
       "      <td>Self-employed</td>\n",
       "      <td>Rural</td>\n",
       "      <td>202.21</td>\n",
       "      <td>NaN</td>\n",
       "      <td>never smoked</td>\n",
       "      <td>1</td>\n",
       "    </tr>\n",
       "    <tr>\n",
       "      <th>2</th>\n",
       "      <td>31112</td>\n",
       "      <td>Male</td>\n",
       "      <td>80.0</td>\n",
       "      <td>0</td>\n",
       "      <td>1</td>\n",
       "      <td>Yes</td>\n",
       "      <td>Private</td>\n",
       "      <td>Rural</td>\n",
       "      <td>105.92</td>\n",
       "      <td>32.5</td>\n",
       "      <td>never smoked</td>\n",
       "      <td>1</td>\n",
       "    </tr>\n",
       "    <tr>\n",
       "      <th>3</th>\n",
       "      <td>60182</td>\n",
       "      <td>Female</td>\n",
       "      <td>49.0</td>\n",
       "      <td>0</td>\n",
       "      <td>0</td>\n",
       "      <td>Yes</td>\n",
       "      <td>Private</td>\n",
       "      <td>Urban</td>\n",
       "      <td>171.23</td>\n",
       "      <td>34.4</td>\n",
       "      <td>smokes</td>\n",
       "      <td>1</td>\n",
       "    </tr>\n",
       "    <tr>\n",
       "      <th>4</th>\n",
       "      <td>1665</td>\n",
       "      <td>Female</td>\n",
       "      <td>79.0</td>\n",
       "      <td>1</td>\n",
       "      <td>0</td>\n",
       "      <td>Yes</td>\n",
       "      <td>Self-employed</td>\n",
       "      <td>Rural</td>\n",
       "      <td>174.12</td>\n",
       "      <td>24.0</td>\n",
       "      <td>never smoked</td>\n",
       "      <td>1</td>\n",
       "    </tr>\n",
       "  </tbody>\n",
       "</table>\n",
       "</div>"
      ],
      "text/plain": [
       "      id  gender   age  hypertension  heart_disease ever_married  \\\n",
       "0   9046    Male  67.0             0              1          Yes   \n",
       "1  51676  Female  61.0             0              0          Yes   \n",
       "2  31112    Male  80.0             0              1          Yes   \n",
       "3  60182  Female  49.0             0              0          Yes   \n",
       "4   1665  Female  79.0             1              0          Yes   \n",
       "\n",
       "       work_type residence_type  avg_glucose_level   bmi   smoking_status  \\\n",
       "0        Private          Urban             228.69  36.6  formerly smoked   \n",
       "1  Self-employed          Rural             202.21   NaN     never smoked   \n",
       "2        Private          Rural             105.92  32.5     never smoked   \n",
       "3        Private          Urban             171.23  34.4           smokes   \n",
       "4  Self-employed          Rural             174.12  24.0     never smoked   \n",
       "\n",
       "   stroke  \n",
       "0       1  \n",
       "1       1  \n",
       "2       1  \n",
       "3       1  \n",
       "4       1  "
      ]
     },
     "execution_count": 3,
     "metadata": {},
     "output_type": "execute_result"
    }
   ],
   "source": [
    "# df rename\n",
    "df = df.rename(str.lower, axis='columns')\n",
    "df.head()"
   ]
  },
  {
   "cell_type": "markdown",
   "id": "d5640a49-327d-403b-90db-1180921346c5",
   "metadata": {
    "tags": []
   },
   "source": [
    "<div style=\"border: 1px solid RGB(51,165,182);\" >\n",
    "<h3 style=\"margin: auto; padding: 20px; color: RGB(51,165,182); \">Univariate Data analysis</h3>\n",
    "</div>"
   ]
  },
  {
   "cell_type": "code",
   "execution_count": 4,
   "id": "174eee98-8a81-4299-8063-e10ae280f705",
   "metadata": {
    "tags": []
   },
   "outputs": [
    {
     "data": {
      "text/plain": [
       "(5110, 12)"
      ]
     },
     "execution_count": 4,
     "metadata": {},
     "output_type": "execute_result"
    }
   ],
   "source": [
    "# df size\n",
    "df.shape"
   ]
  },
  {
   "cell_type": "code",
   "execution_count": 5,
   "id": "4f3b070a-7be1-4876-9faf-61d15997657c",
   "metadata": {
    "tags": []
   },
   "outputs": [
    {
     "data": {
      "text/html": [
       "<div>\n",
       "<style scoped>\n",
       "    .dataframe tbody tr th:only-of-type {\n",
       "        vertical-align: middle;\n",
       "    }\n",
       "\n",
       "    .dataframe tbody tr th {\n",
       "        vertical-align: top;\n",
       "    }\n",
       "\n",
       "    .dataframe thead th {\n",
       "        text-align: right;\n",
       "    }\n",
       "</style>\n",
       "<table border=\"1\" class=\"dataframe\">\n",
       "  <thead>\n",
       "    <tr style=\"text-align: right;\">\n",
       "      <th></th>\n",
       "      <th>id</th>\n",
       "      <th>age</th>\n",
       "      <th>hypertension</th>\n",
       "      <th>heart_disease</th>\n",
       "      <th>avg_glucose_level</th>\n",
       "      <th>bmi</th>\n",
       "      <th>stroke</th>\n",
       "    </tr>\n",
       "  </thead>\n",
       "  <tbody>\n",
       "    <tr>\n",
       "      <th>count</th>\n",
       "      <td>5110.000000</td>\n",
       "      <td>5110.000000</td>\n",
       "      <td>5110.000000</td>\n",
       "      <td>5110.000000</td>\n",
       "      <td>5110.000000</td>\n",
       "      <td>4909.000000</td>\n",
       "      <td>5110.000000</td>\n",
       "    </tr>\n",
       "    <tr>\n",
       "      <th>mean</th>\n",
       "      <td>36517.829354</td>\n",
       "      <td>43.226614</td>\n",
       "      <td>0.097456</td>\n",
       "      <td>0.054012</td>\n",
       "      <td>106.147677</td>\n",
       "      <td>28.893237</td>\n",
       "      <td>0.048728</td>\n",
       "    </tr>\n",
       "    <tr>\n",
       "      <th>std</th>\n",
       "      <td>21161.721625</td>\n",
       "      <td>22.612647</td>\n",
       "      <td>0.296607</td>\n",
       "      <td>0.226063</td>\n",
       "      <td>45.283560</td>\n",
       "      <td>7.854067</td>\n",
       "      <td>0.215320</td>\n",
       "    </tr>\n",
       "    <tr>\n",
       "      <th>min</th>\n",
       "      <td>67.000000</td>\n",
       "      <td>0.080000</td>\n",
       "      <td>0.000000</td>\n",
       "      <td>0.000000</td>\n",
       "      <td>55.120000</td>\n",
       "      <td>10.300000</td>\n",
       "      <td>0.000000</td>\n",
       "    </tr>\n",
       "    <tr>\n",
       "      <th>25%</th>\n",
       "      <td>17741.250000</td>\n",
       "      <td>25.000000</td>\n",
       "      <td>0.000000</td>\n",
       "      <td>0.000000</td>\n",
       "      <td>77.245000</td>\n",
       "      <td>23.500000</td>\n",
       "      <td>0.000000</td>\n",
       "    </tr>\n",
       "    <tr>\n",
       "      <th>50%</th>\n",
       "      <td>36932.000000</td>\n",
       "      <td>45.000000</td>\n",
       "      <td>0.000000</td>\n",
       "      <td>0.000000</td>\n",
       "      <td>91.885000</td>\n",
       "      <td>28.100000</td>\n",
       "      <td>0.000000</td>\n",
       "    </tr>\n",
       "    <tr>\n",
       "      <th>75%</th>\n",
       "      <td>54682.000000</td>\n",
       "      <td>61.000000</td>\n",
       "      <td>0.000000</td>\n",
       "      <td>0.000000</td>\n",
       "      <td>114.090000</td>\n",
       "      <td>33.100000</td>\n",
       "      <td>0.000000</td>\n",
       "    </tr>\n",
       "    <tr>\n",
       "      <th>max</th>\n",
       "      <td>72940.000000</td>\n",
       "      <td>82.000000</td>\n",
       "      <td>1.000000</td>\n",
       "      <td>1.000000</td>\n",
       "      <td>271.740000</td>\n",
       "      <td>97.600000</td>\n",
       "      <td>1.000000</td>\n",
       "    </tr>\n",
       "  </tbody>\n",
       "</table>\n",
       "</div>"
      ],
      "text/plain": [
       "                 id          age  hypertension  heart_disease  \\\n",
       "count   5110.000000  5110.000000   5110.000000    5110.000000   \n",
       "mean   36517.829354    43.226614      0.097456       0.054012   \n",
       "std    21161.721625    22.612647      0.296607       0.226063   \n",
       "min       67.000000     0.080000      0.000000       0.000000   \n",
       "25%    17741.250000    25.000000      0.000000       0.000000   \n",
       "50%    36932.000000    45.000000      0.000000       0.000000   \n",
       "75%    54682.000000    61.000000      0.000000       0.000000   \n",
       "max    72940.000000    82.000000      1.000000       1.000000   \n",
       "\n",
       "       avg_glucose_level          bmi       stroke  \n",
       "count        5110.000000  4909.000000  5110.000000  \n",
       "mean          106.147677    28.893237     0.048728  \n",
       "std            45.283560     7.854067     0.215320  \n",
       "min            55.120000    10.300000     0.000000  \n",
       "25%            77.245000    23.500000     0.000000  \n",
       "50%            91.885000    28.100000     0.000000  \n",
       "75%           114.090000    33.100000     0.000000  \n",
       "max           271.740000    97.600000     1.000000  "
      ]
     },
     "execution_count": 5,
     "metadata": {},
     "output_type": "execute_result"
    }
   ],
   "source": [
    "# df description for quantitative variable\n",
    "df.describe()"
   ]
  },
  {
   "cell_type": "code",
   "execution_count": 6,
   "id": "d0c5964a-acb5-4055-bde6-d3a5426662fe",
   "metadata": {
    "tags": []
   },
   "outputs": [
    {
     "data": {
      "text/html": [
       "<div>\n",
       "<style scoped>\n",
       "    .dataframe tbody tr th:only-of-type {\n",
       "        vertical-align: middle;\n",
       "    }\n",
       "\n",
       "    .dataframe tbody tr th {\n",
       "        vertical-align: top;\n",
       "    }\n",
       "\n",
       "    .dataframe thead th {\n",
       "        text-align: right;\n",
       "    }\n",
       "</style>\n",
       "<table border=\"1\" class=\"dataframe\">\n",
       "  <thead>\n",
       "    <tr style=\"text-align: right;\">\n",
       "      <th></th>\n",
       "      <th>gender</th>\n",
       "      <th>ever_married</th>\n",
       "      <th>work_type</th>\n",
       "      <th>residence_type</th>\n",
       "      <th>smoking_status</th>\n",
       "    </tr>\n",
       "  </thead>\n",
       "  <tbody>\n",
       "    <tr>\n",
       "      <th>count</th>\n",
       "      <td>5110</td>\n",
       "      <td>5110</td>\n",
       "      <td>5110</td>\n",
       "      <td>5110</td>\n",
       "      <td>5110</td>\n",
       "    </tr>\n",
       "    <tr>\n",
       "      <th>unique</th>\n",
       "      <td>3</td>\n",
       "      <td>2</td>\n",
       "      <td>5</td>\n",
       "      <td>2</td>\n",
       "      <td>4</td>\n",
       "    </tr>\n",
       "    <tr>\n",
       "      <th>top</th>\n",
       "      <td>Female</td>\n",
       "      <td>Yes</td>\n",
       "      <td>Private</td>\n",
       "      <td>Urban</td>\n",
       "      <td>never smoked</td>\n",
       "    </tr>\n",
       "    <tr>\n",
       "      <th>freq</th>\n",
       "      <td>2994</td>\n",
       "      <td>3353</td>\n",
       "      <td>2925</td>\n",
       "      <td>2596</td>\n",
       "      <td>1892</td>\n",
       "    </tr>\n",
       "  </tbody>\n",
       "</table>\n",
       "</div>"
      ],
      "text/plain": [
       "        gender ever_married work_type residence_type smoking_status\n",
       "count     5110         5110      5110           5110           5110\n",
       "unique       3            2         5              2              4\n",
       "top     Female          Yes   Private          Urban   never smoked\n",
       "freq      2994         3353      2925           2596           1892"
      ]
     },
     "execution_count": 6,
     "metadata": {},
     "output_type": "execute_result"
    }
   ],
   "source": [
    "# df description for qualitative variable\n",
    "df.describe(include='object')"
   ]
  },
  {
   "cell_type": "code",
   "execution_count": 7,
   "id": "a05f0874-11fe-4eb5-b97f-56a9f3fa16a0",
   "metadata": {
    "tags": []
   },
   "outputs": [
    {
     "data": {
      "text/plain": [
       "id                     int64\n",
       "gender                object\n",
       "age                  float64\n",
       "hypertension           int64\n",
       "heart_disease          int64\n",
       "ever_married          object\n",
       "work_type             object\n",
       "residence_type        object\n",
       "avg_glucose_level    float64\n",
       "bmi                  float64\n",
       "smoking_status        object\n",
       "stroke                 int64\n",
       "dtype: object"
      ]
     },
     "execution_count": 7,
     "metadata": {},
     "output_type": "execute_result"
    }
   ],
   "source": [
    "# columns types\n",
    "df.dtypes"
   ]
  },
  {
   "cell_type": "markdown",
   "id": "66e1dd6a-84b5-4be5-8a95-cfa5587adee9",
   "metadata": {},
   "source": [
    "# \"id\" column"
   ]
  },
  {
   "cell_type": "markdown",
   "id": "e1b09b1e-dd42-4998-ab60-808cc4bf6767",
   "metadata": {},
   "source": [
    "The ID column is not relevant to our analysis, but we would like to keep it as a record.<br/>\n",
    "We will convert it into an index.<br/>\n",
    "We already know that there is no NaN in this column (df.describe())\n",
    "1) We will test if the index is unique\n",
    "2) we will convert ID column as an index"
   ]
  },
  {
   "cell_type": "code",
   "execution_count": 8,
   "id": "40e38f5d-f76a-4877-b5a0-6483889dd4c0",
   "metadata": {},
   "outputs": [],
   "source": [
    "# function for testing that all value of a column are unique\n",
    "def isUnique(df, columns):\n",
    "    if df.size == df.drop_duplicates(columns).size :\n",
    "        print(\"Key is unique\")\n",
    "    else :\n",
    "        print(\"/!\\ Key is not unique /!\\.\")"
   ]
  },
  {
   "cell_type": "code",
   "execution_count": 9,
   "id": "6d9055f4-c62b-47f4-bdf4-aec21472b83b",
   "metadata": {
    "tags": []
   },
   "outputs": [
    {
     "name": "stdout",
     "output_type": "stream",
     "text": [
      "Key is unique\n"
     ]
    }
   ],
   "source": [
    "# check\n",
    "isUnique(df, \"id\")"
   ]
  },
  {
   "cell_type": "code",
   "execution_count": 10,
   "id": "63a64012-609c-402a-b779-3ce9c80a268a",
   "metadata": {
    "tags": []
   },
   "outputs": [],
   "source": [
    "# set of ID column as an index\n",
    "df.set_index(\"id\", inplace=True)"
   ]
  },
  {
   "cell_type": "code",
   "execution_count": 11,
   "id": "9d3ba96e-3ff0-47bb-8f88-ba2b0647e2aa",
   "metadata": {
    "tags": []
   },
   "outputs": [
    {
     "data": {
      "text/html": [
       "<div>\n",
       "<style scoped>\n",
       "    .dataframe tbody tr th:only-of-type {\n",
       "        vertical-align: middle;\n",
       "    }\n",
       "\n",
       "    .dataframe tbody tr th {\n",
       "        vertical-align: top;\n",
       "    }\n",
       "\n",
       "    .dataframe thead th {\n",
       "        text-align: right;\n",
       "    }\n",
       "</style>\n",
       "<table border=\"1\" class=\"dataframe\">\n",
       "  <thead>\n",
       "    <tr style=\"text-align: right;\">\n",
       "      <th></th>\n",
       "      <th>gender</th>\n",
       "      <th>age</th>\n",
       "      <th>hypertension</th>\n",
       "      <th>heart_disease</th>\n",
       "      <th>ever_married</th>\n",
       "      <th>work_type</th>\n",
       "      <th>residence_type</th>\n",
       "      <th>avg_glucose_level</th>\n",
       "      <th>bmi</th>\n",
       "      <th>smoking_status</th>\n",
       "      <th>stroke</th>\n",
       "    </tr>\n",
       "    <tr>\n",
       "      <th>id</th>\n",
       "      <th></th>\n",
       "      <th></th>\n",
       "      <th></th>\n",
       "      <th></th>\n",
       "      <th></th>\n",
       "      <th></th>\n",
       "      <th></th>\n",
       "      <th></th>\n",
       "      <th></th>\n",
       "      <th></th>\n",
       "      <th></th>\n",
       "    </tr>\n",
       "  </thead>\n",
       "  <tbody>\n",
       "    <tr>\n",
       "      <th>9046</th>\n",
       "      <td>Male</td>\n",
       "      <td>67.0</td>\n",
       "      <td>0</td>\n",
       "      <td>1</td>\n",
       "      <td>Yes</td>\n",
       "      <td>Private</td>\n",
       "      <td>Urban</td>\n",
       "      <td>228.69</td>\n",
       "      <td>36.6</td>\n",
       "      <td>formerly smoked</td>\n",
       "      <td>1</td>\n",
       "    </tr>\n",
       "    <tr>\n",
       "      <th>51676</th>\n",
       "      <td>Female</td>\n",
       "      <td>61.0</td>\n",
       "      <td>0</td>\n",
       "      <td>0</td>\n",
       "      <td>Yes</td>\n",
       "      <td>Self-employed</td>\n",
       "      <td>Rural</td>\n",
       "      <td>202.21</td>\n",
       "      <td>NaN</td>\n",
       "      <td>never smoked</td>\n",
       "      <td>1</td>\n",
       "    </tr>\n",
       "    <tr>\n",
       "      <th>31112</th>\n",
       "      <td>Male</td>\n",
       "      <td>80.0</td>\n",
       "      <td>0</td>\n",
       "      <td>1</td>\n",
       "      <td>Yes</td>\n",
       "      <td>Private</td>\n",
       "      <td>Rural</td>\n",
       "      <td>105.92</td>\n",
       "      <td>32.5</td>\n",
       "      <td>never smoked</td>\n",
       "      <td>1</td>\n",
       "    </tr>\n",
       "    <tr>\n",
       "      <th>60182</th>\n",
       "      <td>Female</td>\n",
       "      <td>49.0</td>\n",
       "      <td>0</td>\n",
       "      <td>0</td>\n",
       "      <td>Yes</td>\n",
       "      <td>Private</td>\n",
       "      <td>Urban</td>\n",
       "      <td>171.23</td>\n",
       "      <td>34.4</td>\n",
       "      <td>smokes</td>\n",
       "      <td>1</td>\n",
       "    </tr>\n",
       "    <tr>\n",
       "      <th>1665</th>\n",
       "      <td>Female</td>\n",
       "      <td>79.0</td>\n",
       "      <td>1</td>\n",
       "      <td>0</td>\n",
       "      <td>Yes</td>\n",
       "      <td>Self-employed</td>\n",
       "      <td>Rural</td>\n",
       "      <td>174.12</td>\n",
       "      <td>24.0</td>\n",
       "      <td>never smoked</td>\n",
       "      <td>1</td>\n",
       "    </tr>\n",
       "  </tbody>\n",
       "</table>\n",
       "</div>"
      ],
      "text/plain": [
       "       gender   age  hypertension  heart_disease ever_married      work_type  \\\n",
       "id                                                                             \n",
       "9046     Male  67.0             0              1          Yes        Private   \n",
       "51676  Female  61.0             0              0          Yes  Self-employed   \n",
       "31112    Male  80.0             0              1          Yes        Private   \n",
       "60182  Female  49.0             0              0          Yes        Private   \n",
       "1665   Female  79.0             1              0          Yes  Self-employed   \n",
       "\n",
       "      residence_type  avg_glucose_level   bmi   smoking_status  stroke  \n",
       "id                                                                      \n",
       "9046           Urban             228.69  36.6  formerly smoked       1  \n",
       "51676          Rural             202.21   NaN     never smoked       1  \n",
       "31112          Rural             105.92  32.5     never smoked       1  \n",
       "60182          Urban             171.23  34.4           smokes       1  \n",
       "1665           Rural             174.12  24.0     never smoked       1  "
      ]
     },
     "execution_count": 11,
     "metadata": {},
     "output_type": "execute_result"
    }
   ],
   "source": [
    "df.head()"
   ]
  },
  {
   "cell_type": "markdown",
   "id": "27525426-b0bf-4e99-a61d-b0be7dc3fb05",
   "metadata": {},
   "source": [
    "# \"gender\" column"
   ]
  },
  {
   "cell_type": "markdown",
   "id": "a9f10406-6cf0-4659-81da-4cc1a507f73a",
   "metadata": {},
   "source": [
    "We already know that there is no NaN in this column (df.describe())<br/>\n",
    "We will check the different possible modality."
   ]
  },
  {
   "cell_type": "code",
   "execution_count": 12,
   "id": "684ad897-b9c2-48a5-a5f7-7b1369b055fa",
   "metadata": {
    "tags": []
   },
   "outputs": [
    {
     "data": {
      "text/plain": [
       "gender\n",
       "Female    2994\n",
       "Male      2115\n",
       "Other        1\n",
       "Name: count, dtype: int64"
      ]
     },
     "execution_count": 12,
     "metadata": {},
     "output_type": "execute_result"
    }
   ],
   "source": [
    "# count of the different modalities\n",
    "df.gender.value_counts()"
   ]
  },
  {
   "cell_type": "code",
   "execution_count": 13,
   "id": "dbd48cff-51bd-4de5-9451-339cfba7842a",
   "metadata": {
    "tags": []
   },
   "outputs": [
    {
     "data": {
      "text/html": [
       "<div>\n",
       "<style scoped>\n",
       "    .dataframe tbody tr th:only-of-type {\n",
       "        vertical-align: middle;\n",
       "    }\n",
       "\n",
       "    .dataframe tbody tr th {\n",
       "        vertical-align: top;\n",
       "    }\n",
       "\n",
       "    .dataframe thead th {\n",
       "        text-align: right;\n",
       "    }\n",
       "</style>\n",
       "<table border=\"1\" class=\"dataframe\">\n",
       "  <thead>\n",
       "    <tr style=\"text-align: right;\">\n",
       "      <th></th>\n",
       "      <th>gender</th>\n",
       "      <th>age</th>\n",
       "      <th>hypertension</th>\n",
       "      <th>heart_disease</th>\n",
       "      <th>ever_married</th>\n",
       "      <th>work_type</th>\n",
       "      <th>residence_type</th>\n",
       "      <th>avg_glucose_level</th>\n",
       "      <th>bmi</th>\n",
       "      <th>smoking_status</th>\n",
       "      <th>stroke</th>\n",
       "    </tr>\n",
       "    <tr>\n",
       "      <th>id</th>\n",
       "      <th></th>\n",
       "      <th></th>\n",
       "      <th></th>\n",
       "      <th></th>\n",
       "      <th></th>\n",
       "      <th></th>\n",
       "      <th></th>\n",
       "      <th></th>\n",
       "      <th></th>\n",
       "      <th></th>\n",
       "      <th></th>\n",
       "    </tr>\n",
       "  </thead>\n",
       "  <tbody>\n",
       "    <tr>\n",
       "      <th>56156</th>\n",
       "      <td>Other</td>\n",
       "      <td>26.0</td>\n",
       "      <td>0</td>\n",
       "      <td>0</td>\n",
       "      <td>No</td>\n",
       "      <td>Private</td>\n",
       "      <td>Rural</td>\n",
       "      <td>143.33</td>\n",
       "      <td>22.4</td>\n",
       "      <td>formerly smoked</td>\n",
       "      <td>0</td>\n",
       "    </tr>\n",
       "  </tbody>\n",
       "</table>\n",
       "</div>"
      ],
      "text/plain": [
       "      gender   age  hypertension  heart_disease ever_married work_type  \\\n",
       "id                                                                       \n",
       "56156  Other  26.0             0              0           No   Private   \n",
       "\n",
       "      residence_type  avg_glucose_level   bmi   smoking_status  stroke  \n",
       "id                                                                      \n",
       "56156          Rural             143.33  22.4  formerly smoked       0  "
      ]
     },
     "execution_count": 13,
     "metadata": {},
     "output_type": "execute_result"
    }
   ],
   "source": [
    "# observation of the unique \"Other\"\n",
    "df[df.gender == \"Other\"]"
   ]
  },
  {
   "cell_type": "code",
   "execution_count": 14,
   "id": "a6dcdb32-54a4-47e6-9abb-301698de318d",
   "metadata": {
    "tags": []
   },
   "outputs": [
    {
     "data": {
      "image/png": "[encoded data removed]",
      "text/plain": [
       "<Figure size 640x480 with 1 Axes>"
      ]
     },
     "metadata": {},
     "output_type": "display_data"
    }
   ],
   "source": [
    "# Distribution plot\n",
    "sns.countplot(df, x=\"gender\")\n",
    "plt.show()"
   ]
  },
  {
   "cell_type": "markdown",
   "id": "3eaec345-334f-4f22-b973-29c4097563a6",
   "metadata": {
    "tags": []
   },
   "source": [
    "# \"age\" column"
   ]
  },
  {
   "cell_type": "markdown",
   "id": "cc70602f-0fea-4053-9ef2-ee0789324042",
   "metadata": {},
   "source": [
    "We saw in the df.describe() that:\n",
    "1) there is no NaN\n",
    "2) the mean of age is around 43 years and the max of age is around 82 years\n",
    "3) the minimum age seems very low => 0.080000 (we have to verify if it is not an error)"
   ]
  },
  {
   "cell_type": "code",
   "execution_count": 15,
   "id": "5cef008b-7abb-4fca-aad6-0c02e7a58c80",
   "metadata": {
    "tags": []
   },
   "outputs": [
    {
     "data": {
      "text/html": [
       "<div>\n",
       "<style scoped>\n",
       "    .dataframe tbody tr th:only-of-type {\n",
       "        vertical-align: middle;\n",
       "    }\n",
       "\n",
       "    .dataframe tbody tr th {\n",
       "        vertical-align: top;\n",
       "    }\n",
       "\n",
       "    .dataframe thead th {\n",
       "        text-align: right;\n",
       "    }\n",
       "</style>\n",
       "<table border=\"1\" class=\"dataframe\">\n",
       "  <thead>\n",
       "    <tr style=\"text-align: right;\">\n",
       "      <th></th>\n",
       "      <th>gender</th>\n",
       "      <th>age</th>\n",
       "      <th>hypertension</th>\n",
       "      <th>heart_disease</th>\n",
       "      <th>ever_married</th>\n",
       "      <th>work_type</th>\n",
       "      <th>residence_type</th>\n",
       "      <th>avg_glucose_level</th>\n",
       "      <th>bmi</th>\n",
       "      <th>smoking_status</th>\n",
       "      <th>stroke</th>\n",
       "    </tr>\n",
       "    <tr>\n",
       "      <th>id</th>\n",
       "      <th></th>\n",
       "      <th></th>\n",
       "      <th></th>\n",
       "      <th></th>\n",
       "      <th></th>\n",
       "      <th></th>\n",
       "      <th></th>\n",
       "      <th></th>\n",
       "      <th></th>\n",
       "      <th></th>\n",
       "      <th></th>\n",
       "    </tr>\n",
       "  </thead>\n",
       "  <tbody>\n",
       "    <tr>\n",
       "      <th>7559</th>\n",
       "      <td>Female</td>\n",
       "      <td>0.64</td>\n",
       "      <td>0</td>\n",
       "      <td>0</td>\n",
       "      <td>No</td>\n",
       "      <td>children</td>\n",
       "      <td>Urban</td>\n",
       "      <td>83.82</td>\n",
       "      <td>24.9</td>\n",
       "      <td>Unknown</td>\n",
       "      <td>0</td>\n",
       "    </tr>\n",
       "    <tr>\n",
       "      <th>22706</th>\n",
       "      <td>Female</td>\n",
       "      <td>0.88</td>\n",
       "      <td>0</td>\n",
       "      <td>0</td>\n",
       "      <td>No</td>\n",
       "      <td>children</td>\n",
       "      <td>Rural</td>\n",
       "      <td>88.11</td>\n",
       "      <td>15.5</td>\n",
       "      <td>Unknown</td>\n",
       "      <td>0</td>\n",
       "    </tr>\n",
       "    <tr>\n",
       "      <th>61511</th>\n",
       "      <td>Female</td>\n",
       "      <td>0.32</td>\n",
       "      <td>0</td>\n",
       "      <td>0</td>\n",
       "      <td>No</td>\n",
       "      <td>children</td>\n",
       "      <td>Rural</td>\n",
       "      <td>73.71</td>\n",
       "      <td>16.2</td>\n",
       "      <td>Unknown</td>\n",
       "      <td>0</td>\n",
       "    </tr>\n",
       "    <tr>\n",
       "      <th>47876</th>\n",
       "      <td>Male</td>\n",
       "      <td>1.00</td>\n",
       "      <td>0</td>\n",
       "      <td>0</td>\n",
       "      <td>No</td>\n",
       "      <td>children</td>\n",
       "      <td>Rural</td>\n",
       "      <td>89.30</td>\n",
       "      <td>21.4</td>\n",
       "      <td>Unknown</td>\n",
       "      <td>0</td>\n",
       "    </tr>\n",
       "    <tr>\n",
       "      <th>57372</th>\n",
       "      <td>Male</td>\n",
       "      <td>1.00</td>\n",
       "      <td>0</td>\n",
       "      <td>0</td>\n",
       "      <td>No</td>\n",
       "      <td>children</td>\n",
       "      <td>Rural</td>\n",
       "      <td>123.21</td>\n",
       "      <td>15.1</td>\n",
       "      <td>Unknown</td>\n",
       "      <td>0</td>\n",
       "    </tr>\n",
       "    <tr>\n",
       "      <th>54747</th>\n",
       "      <td>Male</td>\n",
       "      <td>0.88</td>\n",
       "      <td>0</td>\n",
       "      <td>0</td>\n",
       "      <td>No</td>\n",
       "      <td>children</td>\n",
       "      <td>Rural</td>\n",
       "      <td>157.57</td>\n",
       "      <td>19.2</td>\n",
       "      <td>Unknown</td>\n",
       "      <td>0</td>\n",
       "    </tr>\n",
       "    <tr>\n",
       "      <th>53279</th>\n",
       "      <td>Male</td>\n",
       "      <td>0.24</td>\n",
       "      <td>0</td>\n",
       "      <td>0</td>\n",
       "      <td>No</td>\n",
       "      <td>children</td>\n",
       "      <td>Rural</td>\n",
       "      <td>118.87</td>\n",
       "      <td>16.3</td>\n",
       "      <td>Unknown</td>\n",
       "      <td>0</td>\n",
       "    </tr>\n",
       "    <tr>\n",
       "      <th>66772</th>\n",
       "      <td>Female</td>\n",
       "      <td>0.32</td>\n",
       "      <td>0</td>\n",
       "      <td>0</td>\n",
       "      <td>No</td>\n",
       "      <td>children</td>\n",
       "      <td>Rural</td>\n",
       "      <td>55.86</td>\n",
       "      <td>16.0</td>\n",
       "      <td>Unknown</td>\n",
       "      <td>0</td>\n",
       "    </tr>\n",
       "    <tr>\n",
       "      <th>68908</th>\n",
       "      <td>Female</td>\n",
       "      <td>0.72</td>\n",
       "      <td>0</td>\n",
       "      <td>0</td>\n",
       "      <td>No</td>\n",
       "      <td>children</td>\n",
       "      <td>Urban</td>\n",
       "      <td>66.36</td>\n",
       "      <td>23.0</td>\n",
       "      <td>Unknown</td>\n",
       "      <td>0</td>\n",
       "    </tr>\n",
       "    <tr>\n",
       "      <th>30084</th>\n",
       "      <td>Male</td>\n",
       "      <td>0.80</td>\n",
       "      <td>0</td>\n",
       "      <td>0</td>\n",
       "      <td>No</td>\n",
       "      <td>children</td>\n",
       "      <td>Rural</td>\n",
       "      <td>98.67</td>\n",
       "      <td>17.5</td>\n",
       "      <td>Unknown</td>\n",
       "      <td>0</td>\n",
       "    </tr>\n",
       "    <tr>\n",
       "      <th>12687</th>\n",
       "      <td>Male</td>\n",
       "      <td>1.00</td>\n",
       "      <td>0</td>\n",
       "      <td>0</td>\n",
       "      <td>No</td>\n",
       "      <td>children</td>\n",
       "      <td>Urban</td>\n",
       "      <td>101.31</td>\n",
       "      <td>18.3</td>\n",
       "      <td>Unknown</td>\n",
       "      <td>0</td>\n",
       "    </tr>\n",
       "    <tr>\n",
       "      <th>40544</th>\n",
       "      <td>Male</td>\n",
       "      <td>0.40</td>\n",
       "      <td>0</td>\n",
       "      <td>0</td>\n",
       "      <td>No</td>\n",
       "      <td>children</td>\n",
       "      <td>Urban</td>\n",
       "      <td>109.56</td>\n",
       "      <td>14.3</td>\n",
       "      <td>Unknown</td>\n",
       "      <td>0</td>\n",
       "    </tr>\n",
       "    <tr>\n",
       "      <th>47350</th>\n",
       "      <td>Female</td>\n",
       "      <td>0.08</td>\n",
       "      <td>0</td>\n",
       "      <td>0</td>\n",
       "      <td>No</td>\n",
       "      <td>children</td>\n",
       "      <td>Urban</td>\n",
       "      <td>139.67</td>\n",
       "      <td>14.1</td>\n",
       "      <td>Unknown</td>\n",
       "      <td>0</td>\n",
       "    </tr>\n",
       "    <tr>\n",
       "      <th>46035</th>\n",
       "      <td>Male</td>\n",
       "      <td>1.00</td>\n",
       "      <td>0</td>\n",
       "      <td>0</td>\n",
       "      <td>No</td>\n",
       "      <td>children</td>\n",
       "      <td>Urban</td>\n",
       "      <td>84.85</td>\n",
       "      <td>20.3</td>\n",
       "      <td>Unknown</td>\n",
       "      <td>0</td>\n",
       "    </tr>\n",
       "    <tr>\n",
       "      <th>53126</th>\n",
       "      <td>Female</td>\n",
       "      <td>0.64</td>\n",
       "      <td>0</td>\n",
       "      <td>0</td>\n",
       "      <td>No</td>\n",
       "      <td>children</td>\n",
       "      <td>Urban</td>\n",
       "      <td>62.27</td>\n",
       "      <td>17.3</td>\n",
       "      <td>Unknown</td>\n",
       "      <td>0</td>\n",
       "    </tr>\n",
       "    <tr>\n",
       "      <th>6596</th>\n",
       "      <td>Male</td>\n",
       "      <td>0.56</td>\n",
       "      <td>0</td>\n",
       "      <td>0</td>\n",
       "      <td>No</td>\n",
       "      <td>children</td>\n",
       "      <td>Rural</td>\n",
       "      <td>111.77</td>\n",
       "      <td>21.1</td>\n",
       "      <td>Unknown</td>\n",
       "      <td>0</td>\n",
       "    </tr>\n",
       "    <tr>\n",
       "      <th>42500</th>\n",
       "      <td>Male</td>\n",
       "      <td>0.24</td>\n",
       "      <td>0</td>\n",
       "      <td>0</td>\n",
       "      <td>No</td>\n",
       "      <td>children</td>\n",
       "      <td>Rural</td>\n",
       "      <td>146.97</td>\n",
       "      <td>18.5</td>\n",
       "      <td>Unknown</td>\n",
       "      <td>0</td>\n",
       "    </tr>\n",
       "    <tr>\n",
       "      <th>67099</th>\n",
       "      <td>Male</td>\n",
       "      <td>0.56</td>\n",
       "      <td>0</td>\n",
       "      <td>0</td>\n",
       "      <td>No</td>\n",
       "      <td>children</td>\n",
       "      <td>Rural</td>\n",
       "      <td>57.02</td>\n",
       "      <td>20.7</td>\n",
       "      <td>Unknown</td>\n",
       "      <td>0</td>\n",
       "    </tr>\n",
       "    <tr>\n",
       "      <th>34261</th>\n",
       "      <td>Male</td>\n",
       "      <td>0.64</td>\n",
       "      <td>0</td>\n",
       "      <td>0</td>\n",
       "      <td>No</td>\n",
       "      <td>children</td>\n",
       "      <td>Rural</td>\n",
       "      <td>86.74</td>\n",
       "      <td>16.2</td>\n",
       "      <td>Unknown</td>\n",
       "      <td>0</td>\n",
       "    </tr>\n",
       "    <tr>\n",
       "      <th>38920</th>\n",
       "      <td>Male</td>\n",
       "      <td>0.48</td>\n",
       "      <td>0</td>\n",
       "      <td>0</td>\n",
       "      <td>No</td>\n",
       "      <td>children</td>\n",
       "      <td>Urban</td>\n",
       "      <td>73.02</td>\n",
       "      <td>NaN</td>\n",
       "      <td>Unknown</td>\n",
       "      <td>0</td>\n",
       "    </tr>\n",
       "    <tr>\n",
       "      <th>54985</th>\n",
       "      <td>Female</td>\n",
       "      <td>1.00</td>\n",
       "      <td>0</td>\n",
       "      <td>0</td>\n",
       "      <td>No</td>\n",
       "      <td>children</td>\n",
       "      <td>Urban</td>\n",
       "      <td>199.83</td>\n",
       "      <td>24.5</td>\n",
       "      <td>Unknown</td>\n",
       "      <td>0</td>\n",
       "    </tr>\n",
       "    <tr>\n",
       "      <th>1275</th>\n",
       "      <td>Male</td>\n",
       "      <td>0.88</td>\n",
       "      <td>0</td>\n",
       "      <td>0</td>\n",
       "      <td>No</td>\n",
       "      <td>children</td>\n",
       "      <td>Urban</td>\n",
       "      <td>112.19</td>\n",
       "      <td>18.9</td>\n",
       "      <td>Unknown</td>\n",
       "      <td>0</td>\n",
       "    </tr>\n",
       "    <tr>\n",
       "      <th>20257</th>\n",
       "      <td>Male</td>\n",
       "      <td>0.88</td>\n",
       "      <td>0</td>\n",
       "      <td>0</td>\n",
       "      <td>No</td>\n",
       "      <td>children</td>\n",
       "      <td>Urban</td>\n",
       "      <td>90.62</td>\n",
       "      <td>22.4</td>\n",
       "      <td>Unknown</td>\n",
       "      <td>0</td>\n",
       "    </tr>\n",
       "    <tr>\n",
       "      <th>48406</th>\n",
       "      <td>Male</td>\n",
       "      <td>0.88</td>\n",
       "      <td>0</td>\n",
       "      <td>0</td>\n",
       "      <td>No</td>\n",
       "      <td>children</td>\n",
       "      <td>Urban</td>\n",
       "      <td>85.38</td>\n",
       "      <td>23.4</td>\n",
       "      <td>Unknown</td>\n",
       "      <td>0</td>\n",
       "    </tr>\n",
       "    <tr>\n",
       "      <th>68382</th>\n",
       "      <td>Male</td>\n",
       "      <td>0.32</td>\n",
       "      <td>0</td>\n",
       "      <td>0</td>\n",
       "      <td>No</td>\n",
       "      <td>children</td>\n",
       "      <td>Urban</td>\n",
       "      <td>127.78</td>\n",
       "      <td>20.8</td>\n",
       "      <td>Unknown</td>\n",
       "      <td>0</td>\n",
       "    </tr>\n",
       "    <tr>\n",
       "      <th>61836</th>\n",
       "      <td>Female</td>\n",
       "      <td>0.80</td>\n",
       "      <td>0</td>\n",
       "      <td>0</td>\n",
       "      <td>No</td>\n",
       "      <td>children</td>\n",
       "      <td>Urban</td>\n",
       "      <td>106.59</td>\n",
       "      <td>15.5</td>\n",
       "      <td>Unknown</td>\n",
       "      <td>0</td>\n",
       "    </tr>\n",
       "    <tr>\n",
       "      <th>760</th>\n",
       "      <td>Male</td>\n",
       "      <td>0.80</td>\n",
       "      <td>0</td>\n",
       "      <td>0</td>\n",
       "      <td>No</td>\n",
       "      <td>children</td>\n",
       "      <td>Urban</td>\n",
       "      <td>75.22</td>\n",
       "      <td>33.1</td>\n",
       "      <td>Unknown</td>\n",
       "      <td>0</td>\n",
       "    </tr>\n",
       "    <tr>\n",
       "      <th>42938</th>\n",
       "      <td>Male</td>\n",
       "      <td>0.64</td>\n",
       "      <td>0</td>\n",
       "      <td>0</td>\n",
       "      <td>No</td>\n",
       "      <td>children</td>\n",
       "      <td>Urban</td>\n",
       "      <td>60.40</td>\n",
       "      <td>17.3</td>\n",
       "      <td>Unknown</td>\n",
       "      <td>0</td>\n",
       "    </tr>\n",
       "    <tr>\n",
       "      <th>64974</th>\n",
       "      <td>Male</td>\n",
       "      <td>0.24</td>\n",
       "      <td>0</td>\n",
       "      <td>0</td>\n",
       "      <td>No</td>\n",
       "      <td>children</td>\n",
       "      <td>Urban</td>\n",
       "      <td>58.35</td>\n",
       "      <td>18.6</td>\n",
       "      <td>Unknown</td>\n",
       "      <td>0</td>\n",
       "    </tr>\n",
       "    <tr>\n",
       "      <th>14877</th>\n",
       "      <td>Male</td>\n",
       "      <td>0.56</td>\n",
       "      <td>0</td>\n",
       "      <td>0</td>\n",
       "      <td>No</td>\n",
       "      <td>children</td>\n",
       "      <td>Rural</td>\n",
       "      <td>127.23</td>\n",
       "      <td>20.1</td>\n",
       "      <td>Unknown</td>\n",
       "      <td>0</td>\n",
       "    </tr>\n",
       "    <tr>\n",
       "      <th>29955</th>\n",
       "      <td>Male</td>\n",
       "      <td>0.08</td>\n",
       "      <td>0</td>\n",
       "      <td>0</td>\n",
       "      <td>No</td>\n",
       "      <td>children</td>\n",
       "      <td>Rural</td>\n",
       "      <td>70.33</td>\n",
       "      <td>16.9</td>\n",
       "      <td>Unknown</td>\n",
       "      <td>0</td>\n",
       "    </tr>\n",
       "    <tr>\n",
       "      <th>11371</th>\n",
       "      <td>Male</td>\n",
       "      <td>0.24</td>\n",
       "      <td>0</td>\n",
       "      <td>0</td>\n",
       "      <td>No</td>\n",
       "      <td>children</td>\n",
       "      <td>Urban</td>\n",
       "      <td>89.28</td>\n",
       "      <td>14.2</td>\n",
       "      <td>Unknown</td>\n",
       "      <td>0</td>\n",
       "    </tr>\n",
       "    <tr>\n",
       "      <th>18837</th>\n",
       "      <td>Male</td>\n",
       "      <td>0.56</td>\n",
       "      <td>0</td>\n",
       "      <td>0</td>\n",
       "      <td>No</td>\n",
       "      <td>children</td>\n",
       "      <td>Urban</td>\n",
       "      <td>98.23</td>\n",
       "      <td>14.1</td>\n",
       "      <td>Unknown</td>\n",
       "      <td>0</td>\n",
       "    </tr>\n",
       "    <tr>\n",
       "      <th>22877</th>\n",
       "      <td>Male</td>\n",
       "      <td>0.16</td>\n",
       "      <td>0</td>\n",
       "      <td>0</td>\n",
       "      <td>No</td>\n",
       "      <td>children</td>\n",
       "      <td>Urban</td>\n",
       "      <td>114.71</td>\n",
       "      <td>17.4</td>\n",
       "      <td>Unknown</td>\n",
       "      <td>0</td>\n",
       "    </tr>\n",
       "    <tr>\n",
       "      <th>23360</th>\n",
       "      <td>Male</td>\n",
       "      <td>0.80</td>\n",
       "      <td>0</td>\n",
       "      <td>0</td>\n",
       "      <td>No</td>\n",
       "      <td>children</td>\n",
       "      <td>Rural</td>\n",
       "      <td>114.54</td>\n",
       "      <td>15.1</td>\n",
       "      <td>Unknown</td>\n",
       "      <td>0</td>\n",
       "    </tr>\n",
       "    <tr>\n",
       "      <th>13857</th>\n",
       "      <td>Male</td>\n",
       "      <td>0.32</td>\n",
       "      <td>0</td>\n",
       "      <td>0</td>\n",
       "      <td>No</td>\n",
       "      <td>children</td>\n",
       "      <td>Urban</td>\n",
       "      <td>89.04</td>\n",
       "      <td>17.8</td>\n",
       "      <td>Unknown</td>\n",
       "      <td>0</td>\n",
       "    </tr>\n",
       "    <tr>\n",
       "      <th>69435</th>\n",
       "      <td>Female</td>\n",
       "      <td>0.56</td>\n",
       "      <td>0</td>\n",
       "      <td>0</td>\n",
       "      <td>No</td>\n",
       "      <td>children</td>\n",
       "      <td>Urban</td>\n",
       "      <td>80.92</td>\n",
       "      <td>18.3</td>\n",
       "      <td>Unknown</td>\n",
       "      <td>0</td>\n",
       "    </tr>\n",
       "    <tr>\n",
       "      <th>41500</th>\n",
       "      <td>Male</td>\n",
       "      <td>0.16</td>\n",
       "      <td>0</td>\n",
       "      <td>0</td>\n",
       "      <td>No</td>\n",
       "      <td>children</td>\n",
       "      <td>Rural</td>\n",
       "      <td>69.79</td>\n",
       "      <td>13.0</td>\n",
       "      <td>Unknown</td>\n",
       "      <td>0</td>\n",
       "    </tr>\n",
       "    <tr>\n",
       "      <th>43282</th>\n",
       "      <td>Male</td>\n",
       "      <td>0.72</td>\n",
       "      <td>0</td>\n",
       "      <td>0</td>\n",
       "      <td>No</td>\n",
       "      <td>children</td>\n",
       "      <td>Rural</td>\n",
       "      <td>159.79</td>\n",
       "      <td>19.9</td>\n",
       "      <td>Unknown</td>\n",
       "      <td>0</td>\n",
       "    </tr>\n",
       "    <tr>\n",
       "      <th>8247</th>\n",
       "      <td>Male</td>\n",
       "      <td>0.16</td>\n",
       "      <td>0</td>\n",
       "      <td>0</td>\n",
       "      <td>No</td>\n",
       "      <td>children</td>\n",
       "      <td>Urban</td>\n",
       "      <td>109.52</td>\n",
       "      <td>13.9</td>\n",
       "      <td>Unknown</td>\n",
       "      <td>0</td>\n",
       "    </tr>\n",
       "    <tr>\n",
       "      <th>40255</th>\n",
       "      <td>Female</td>\n",
       "      <td>0.48</td>\n",
       "      <td>0</td>\n",
       "      <td>0</td>\n",
       "      <td>No</td>\n",
       "      <td>children</td>\n",
       "      <td>Rural</td>\n",
       "      <td>118.75</td>\n",
       "      <td>17.4</td>\n",
       "      <td>Unknown</td>\n",
       "      <td>0</td>\n",
       "    </tr>\n",
       "    <tr>\n",
       "      <th>69222</th>\n",
       "      <td>Male</td>\n",
       "      <td>0.24</td>\n",
       "      <td>0</td>\n",
       "      <td>0</td>\n",
       "      <td>No</td>\n",
       "      <td>children</td>\n",
       "      <td>Urban</td>\n",
       "      <td>57.09</td>\n",
       "      <td>19.4</td>\n",
       "      <td>Unknown</td>\n",
       "      <td>0</td>\n",
       "    </tr>\n",
       "    <tr>\n",
       "      <th>1953</th>\n",
       "      <td>Female</td>\n",
       "      <td>0.72</td>\n",
       "      <td>0</td>\n",
       "      <td>0</td>\n",
       "      <td>No</td>\n",
       "      <td>children</td>\n",
       "      <td>Rural</td>\n",
       "      <td>112.19</td>\n",
       "      <td>20.1</td>\n",
       "      <td>Unknown</td>\n",
       "      <td>0</td>\n",
       "    </tr>\n",
       "    <tr>\n",
       "      <th>15728</th>\n",
       "      <td>Female</td>\n",
       "      <td>0.40</td>\n",
       "      <td>0</td>\n",
       "      <td>0</td>\n",
       "      <td>No</td>\n",
       "      <td>children</td>\n",
       "      <td>Rural</td>\n",
       "      <td>85.65</td>\n",
       "      <td>17.4</td>\n",
       "      <td>Unknown</td>\n",
       "      <td>0</td>\n",
       "    </tr>\n",
       "    <tr>\n",
       "      <th>25783</th>\n",
       "      <td>Female</td>\n",
       "      <td>0.48</td>\n",
       "      <td>0</td>\n",
       "      <td>0</td>\n",
       "      <td>No</td>\n",
       "      <td>children</td>\n",
       "      <td>Rural</td>\n",
       "      <td>94.06</td>\n",
       "      <td>14.8</td>\n",
       "      <td>Unknown</td>\n",
       "      <td>0</td>\n",
       "    </tr>\n",
       "    <tr>\n",
       "      <th>37622</th>\n",
       "      <td>Female</td>\n",
       "      <td>0.32</td>\n",
       "      <td>0</td>\n",
       "      <td>0</td>\n",
       "      <td>No</td>\n",
       "      <td>children</td>\n",
       "      <td>Urban</td>\n",
       "      <td>108.63</td>\n",
       "      <td>19.6</td>\n",
       "      <td>Unknown</td>\n",
       "      <td>0</td>\n",
       "    </tr>\n",
       "    <tr>\n",
       "      <th>29487</th>\n",
       "      <td>Male</td>\n",
       "      <td>0.72</td>\n",
       "      <td>0</td>\n",
       "      <td>0</td>\n",
       "      <td>No</td>\n",
       "      <td>children</td>\n",
       "      <td>Urban</td>\n",
       "      <td>80.08</td>\n",
       "      <td>16.4</td>\n",
       "      <td>Unknown</td>\n",
       "      <td>0</td>\n",
       "    </tr>\n",
       "    <tr>\n",
       "      <th>56714</th>\n",
       "      <td>Female</td>\n",
       "      <td>0.72</td>\n",
       "      <td>0</td>\n",
       "      <td>0</td>\n",
       "      <td>No</td>\n",
       "      <td>children</td>\n",
       "      <td>Rural</td>\n",
       "      <td>62.13</td>\n",
       "      <td>16.8</td>\n",
       "      <td>Unknown</td>\n",
       "      <td>0</td>\n",
       "    </tr>\n",
       "  </tbody>\n",
       "</table>\n",
       "</div>"
      ],
      "text/plain": [
       "       gender   age  hypertension  heart_disease ever_married work_type  \\\n",
       "id                                                                        \n",
       "7559   Female  0.64             0              0           No  children   \n",
       "22706  Female  0.88             0              0           No  children   \n",
       "61511  Female  0.32             0              0           No  children   \n",
       "47876    Male  1.00             0              0           No  children   \n",
       "57372    Male  1.00             0              0           No  children   \n",
       "54747    Male  0.88             0              0           No  children   \n",
       "53279    Male  0.24             0              0           No  children   \n",
       "66772  Female  0.32             0              0           No  children   \n",
       "68908  Female  0.72             0              0           No  children   \n",
       "30084    Male  0.80             0              0           No  children   \n",
       "12687    Male  1.00             0              0           No  children   \n",
       "40544    Male  0.40             0              0           No  children   \n",
       "47350  Female  0.08             0              0           No  children   \n",
       "46035    Male  1.00             0              0           No  children   \n",
       "53126  Female  0.64             0              0           No  children   \n",
       "6596     Male  0.56             0              0           No  children   \n",
       "42500    Male  0.24             0              0           No  children   \n",
       "67099    Male  0.56             0              0           No  children   \n",
       "34261    Male  0.64             0              0           No  children   \n",
       "38920    Male  0.48             0              0           No  children   \n",
       "54985  Female  1.00             0              0           No  children   \n",
       "1275     Male  0.88             0              0           No  children   \n",
       "20257    Male  0.88             0              0           No  children   \n",
       "48406    Male  0.88             0              0           No  children   \n",
       "68382    Male  0.32             0              0           No  children   \n",
       "61836  Female  0.80             0              0           No  children   \n",
       "760      Male  0.80             0              0           No  children   \n",
       "42938    Male  0.64             0              0           No  children   \n",
       "64974    Male  0.24             0              0           No  children   \n",
       "14877    Male  0.56             0              0           No  children   \n",
       "29955    Male  0.08             0              0           No  children   \n",
       "11371    Male  0.24             0              0           No  children   \n",
       "18837    Male  0.56             0              0           No  children   \n",
       "22877    Male  0.16             0              0           No  children   \n",
       "23360    Male  0.80             0              0           No  children   \n",
       "13857    Male  0.32             0              0           No  children   \n",
       "69435  Female  0.56             0              0           No  children   \n",
       "41500    Male  0.16             0              0           No  children   \n",
       "43282    Male  0.72             0              0           No  children   \n",
       "8247     Male  0.16             0              0           No  children   \n",
       "40255  Female  0.48             0              0           No  children   \n",
       "69222    Male  0.24             0              0           No  children   \n",
       "1953   Female  0.72             0              0           No  children   \n",
       "15728  Female  0.40             0              0           No  children   \n",
       "25783  Female  0.48             0              0           No  children   \n",
       "37622  Female  0.32             0              0           No  children   \n",
       "29487    Male  0.72             0              0           No  children   \n",
       "56714  Female  0.72             0              0           No  children   \n",
       "\n",
       "      residence_type  avg_glucose_level   bmi smoking_status  stroke  \n",
       "id                                                                    \n",
       "7559           Urban              83.82  24.9        Unknown       0  \n",
       "22706          Rural              88.11  15.5        Unknown       0  \n",
       "61511          Rural              73.71  16.2        Unknown       0  \n",
       "47876          Rural              89.30  21.4        Unknown       0  \n",
       "57372          Rural             123.21  15.1        Unknown       0  \n",
       "54747          Rural             157.57  19.2        Unknown       0  \n",
       "53279          Rural             118.87  16.3        Unknown       0  \n",
       "66772          Rural              55.86  16.0        Unknown       0  \n",
       "68908          Urban              66.36  23.0        Unknown       0  \n",
       "30084          Rural              98.67  17.5        Unknown       0  \n",
       "12687          Urban             101.31  18.3        Unknown       0  \n",
       "40544          Urban             109.56  14.3        Unknown       0  \n",
       "47350          Urban             139.67  14.1        Unknown       0  \n",
       "46035          Urban              84.85  20.3        Unknown       0  \n",
       "53126          Urban              62.27  17.3        Unknown       0  \n",
       "6596           Rural             111.77  21.1        Unknown       0  \n",
       "42500          Rural             146.97  18.5        Unknown       0  \n",
       "67099          Rural              57.02  20.7        Unknown       0  \n",
       "34261          Rural              86.74  16.2        Unknown       0  \n",
       "38920          Urban              73.02   NaN        Unknown       0  \n",
       "54985          Urban             199.83  24.5        Unknown       0  \n",
       "1275           Urban             112.19  18.9        Unknown       0  \n",
       "20257          Urban              90.62  22.4        Unknown       0  \n",
       "48406          Urban              85.38  23.4        Unknown       0  \n",
       "68382          Urban             127.78  20.8        Unknown       0  \n",
       "61836          Urban             106.59  15.5        Unknown       0  \n",
       "760            Urban              75.22  33.1        Unknown       0  \n",
       "42938          Urban              60.40  17.3        Unknown       0  \n",
       "64974          Urban              58.35  18.6        Unknown       0  \n",
       "14877          Rural             127.23  20.1        Unknown       0  \n",
       "29955          Rural              70.33  16.9        Unknown       0  \n",
       "11371          Urban              89.28  14.2        Unknown       0  \n",
       "18837          Urban              98.23  14.1        Unknown       0  \n",
       "22877          Urban             114.71  17.4        Unknown       0  \n",
       "23360          Rural             114.54  15.1        Unknown       0  \n",
       "13857          Urban              89.04  17.8        Unknown       0  \n",
       "69435          Urban              80.92  18.3        Unknown       0  \n",
       "41500          Rural              69.79  13.0        Unknown       0  \n",
       "43282          Rural             159.79  19.9        Unknown       0  \n",
       "8247           Urban             109.52  13.9        Unknown       0  \n",
       "40255          Rural             118.75  17.4        Unknown       0  \n",
       "69222          Urban              57.09  19.4        Unknown       0  \n",
       "1953           Rural             112.19  20.1        Unknown       0  \n",
       "15728          Rural              85.65  17.4        Unknown       0  \n",
       "25783          Rural              94.06  14.8        Unknown       0  \n",
       "37622          Urban             108.63  19.6        Unknown       0  \n",
       "29487          Urban              80.08  16.4        Unknown       0  \n",
       "56714          Rural              62.13  16.8        Unknown       0  "
      ]
     },
     "execution_count": 15,
     "metadata": {},
     "output_type": "execute_result"
    }
   ],
   "source": [
    "# observation of all rows with an age lowest as 1 year\n",
    "df[df.age <= 1]"
   ]
  },
  {
   "cell_type": "markdown",
   "id": "d5ae76bc-c84a-436a-be91-a3617432b9be",
   "metadata": {},
   "source": [
    "It is seems to be OK. We have only children in the results (work_type column) and no stroke at all."
   ]
  },
  {
   "cell_type": "code",
   "execution_count": 16,
   "id": "2b58ba2a-87dd-457e-a78a-6e6911a53185",
   "metadata": {},
   "outputs": [
    {
     "data": {
      "image/png": "[encoded data removed]",
      "text/plain": [
       "<Figure size 500x500 with 1 Axes>"
      ]
     },
     "metadata": {},
     "output_type": "display_data"
    }
   ],
   "source": [
    "# Distribution plot\n",
    "sns.displot( data=df[\"age\"], kde=True )\n",
    "plt.show()"
   ]
  },
  {
   "cell_type": "markdown",
   "id": "3188f884-03de-4de9-9209-f19c5d4c950a",
   "metadata": {
    "tags": []
   },
   "source": [
    "# \"hypertension\" and \"heart_disease\" columns"
   ]
  },
  {
   "cell_type": "markdown",
   "id": "010cace2-9984-4b5f-b44a-0af0355d5f3f",
   "metadata": {
    "tags": []
   },
   "source": [
    "We saw in the df.describe() that:\n",
    "1) there is no NaN for these 2 boolean columns\n",
    "2) For this 2 columns the means are very low (0.097456 and 0.054012)<br/>\n",
    "We can have here an hypothesis which these low means are related with a very unbalanced dataset (mean of stroke column is only 0.048728)<br/>\n",
    "But this is right only if hypertension and heart_disease are corelated with stroke.<br/>\n",
    "We will see this later in the Notebook and we will have to find a solution about this unbalanced stroke column."
   ]
  },
  {
   "cell_type": "code",
   "execution_count": 17,
   "id": "71a7fa56-772d-4227-a785-fbf969037017",
   "metadata": {
    "tags": []
   },
   "outputs": [
    {
     "data": {
      "text/plain": [
       "hypertension\n",
       "0    4612\n",
       "1     498\n",
       "Name: count, dtype: int64"
      ]
     },
     "execution_count": 17,
     "metadata": {},
     "output_type": "execute_result"
    }
   ],
   "source": [
    "# count of the different modalities to be sure that the hypertension column is a boolean\n",
    "df.hypertension.value_counts()"
   ]
  },
  {
   "cell_type": "code",
   "execution_count": 18,
   "id": "6688a7d6-9626-4e9a-b4cd-0999cd8eb8b8",
   "metadata": {
    "tags": []
   },
   "outputs": [
    {
     "data": {
      "image/png": "[encoded data removed]",
      "text/plain": [
       "<Figure size 640x480 with 1 Axes>"
      ]
     },
     "metadata": {},
     "output_type": "display_data"
    }
   ],
   "source": [
    "# Distribution plot\n",
    "sns.countplot(df, x=\"hypertension\")\n",
    "plt.show()"
   ]
  },
  {
   "cell_type": "code",
   "execution_count": 19,
   "id": "df444d14-65b7-4381-9b82-7b37d972c124",
   "metadata": {
    "tags": []
   },
   "outputs": [
    {
     "data": {
      "text/plain": [
       "heart_disease\n",
       "0    4834\n",
       "1     276\n",
       "Name: count, dtype: int64"
      ]
     },
     "execution_count": 19,
     "metadata": {},
     "output_type": "execute_result"
    }
   ],
   "source": [
    "# count of the different modalities to be sure that the heart_disease column is a boolean\n",
    "df.heart_disease.value_counts()"
   ]
  },
  {
   "cell_type": "code",
   "execution_count": 20,
   "id": "c914b2c5-62e5-4d5f-b33e-f5dec38dd888",
   "metadata": {
    "tags": []
   },
   "outputs": [
    {
     "data": {
      "image/png": "[encoded data removed]",
      "text/plain": [
       "<Figure size 640x480 with 1 Axes>"
      ]
     },
     "metadata": {},
     "output_type": "display_data"
    }
   ],
   "source": [
    "# Distribution plot\n",
    "sns.countplot(df, x=\"heart_disease\")\n",
    "plt.show()"
   ]
  },
  {
   "cell_type": "markdown",
   "id": "8295f24f-f615-4587-a2a6-39aff4a0d8d1",
   "metadata": {},
   "source": [
    "# \"ever_married\" column"
   ]
  },
  {
   "cell_type": "markdown",
   "id": "a2f3da1d-9b9f-4002-ac7d-2559433f3bd7",
   "metadata": {},
   "source": [
    "We already know that there is no NaN in this column (df.describe()).<br/>\n",
    "We will check the different possible modality."
   ]
  },
  {
   "cell_type": "code",
   "execution_count": 21,
   "id": "19799318-3509-4dba-8262-f0f948049e3a",
   "metadata": {
    "tags": []
   },
   "outputs": [
    {
     "data": {
      "text/plain": [
       "ever_married\n",
       "Yes    3353\n",
       "No     1757\n",
       "Name: count, dtype: int64"
      ]
     },
     "execution_count": 21,
     "metadata": {},
     "output_type": "execute_result"
    }
   ],
   "source": [
    "# count of the different modalities\n",
    "df.ever_married.value_counts()"
   ]
  },
  {
   "cell_type": "markdown",
   "id": "87dd7bbf-72f6-4b1c-b800-2f34d0fe3e91",
   "metadata": {
    "tags": []
   },
   "source": [
    "This column is unbalanced too. We don't know if there is a correlation between \"ever_married\" and \"stroke\"<br/>\n",
    "even if being married can be a good reason to had a stroke :-).<br/>\n",
    "Seriously, we will keep this in mind for the next steps in the notebook."
   ]
  },
  {
   "cell_type": "code",
   "execution_count": 22,
   "id": "0facddf2-ded8-4663-a348-774a9ec5ee1d",
   "metadata": {
    "tags": []
   },
   "outputs": [
    {
     "data": {
      "image/png": "[encoded data removed]",
      "text/plain": [
       "<Figure size 640x480 with 1 Axes>"
      ]
     },
     "metadata": {},
     "output_type": "display_data"
    }
   ],
   "source": [
    "# Distribution plot\n",
    "sns.countplot(df, x=\"ever_married\")\n",
    "plt.show()"
   ]
  },
  {
   "cell_type": "markdown",
   "id": "64ee1291-3752-4f78-810a-2320b325a690",
   "metadata": {},
   "source": [
    "# \"work_type\" column"
   ]
  },
  {
   "cell_type": "markdown",
   "id": "243d0c8d-28fc-4a7f-b902-c10f5fb1165d",
   "metadata": {
    "tags": []
   },
   "source": [
    "We already know that there is no NaN in this column (df.describe()).<br/>\n",
    "We will check the different possible modality."
   ]
  },
  {
   "cell_type": "code",
   "execution_count": 23,
   "id": "a85aeca6-1c83-4fe7-9399-e25e054fd789",
   "metadata": {
    "tags": []
   },
   "outputs": [
    {
     "data": {
      "text/plain": [
       "work_type\n",
       "Private          2925\n",
       "Self-employed     819\n",
       "children          687\n",
       "Govt_job          657\n",
       "Never_worked       22\n",
       "Name: count, dtype: int64"
      ]
     },
     "execution_count": 23,
     "metadata": {},
     "output_type": "execute_result"
    }
   ],
   "source": [
    "# count of the different modalities\n",
    "df.work_type.value_counts()"
   ]
  },
  {
   "cell_type": "code",
   "execution_count": 24,
   "id": "0685be98-cf72-488e-a956-07c57f1d0ca7",
   "metadata": {
    "tags": []
   },
   "outputs": [
    {
     "data": {
      "image/png": "[encoded data removed]",
      "text/plain": [
       "<Figure size 640x480 with 1 Axes>"
      ]
     },
     "metadata": {},
     "output_type": "display_data"
    }
   ],
   "source": [
    "# Distribution plot\n",
    "sns.countplot(df, x=\"work_type\")\n",
    "plt.show()"
   ]
  },
  {
   "cell_type": "markdown",
   "id": "0540d368-dc92-4ab9-938e-d7ed3cb57198",
   "metadata": {},
   "source": [
    "# \"residence_type\" column"
   ]
  },
  {
   "cell_type": "markdown",
   "id": "82cb7b62-ba79-47f5-97ed-4131bc0093ec",
   "metadata": {
    "tags": []
   },
   "source": [
    "We already know that there is no NaN in this column (df.describe()).<br/>\n",
    "We will check the different possible modality."
   ]
  },
  {
   "cell_type": "code",
   "execution_count": 25,
   "id": "f3554fca-7976-4ce6-9066-b7a7bda26fe6",
   "metadata": {
    "tags": []
   },
   "outputs": [
    {
     "data": {
      "text/plain": [
       "residence_type\n",
       "Urban    2596\n",
       "Rural    2514\n",
       "Name: count, dtype: int64"
      ]
     },
     "execution_count": 25,
     "metadata": {},
     "output_type": "execute_result"
    }
   ],
   "source": [
    "# count of the different modalities\n",
    "df.residence_type.value_counts()"
   ]
  },
  {
   "cell_type": "code",
   "execution_count": 26,
   "id": "146c67de-dd6f-4791-bde7-1d94cee6ad29",
   "metadata": {
    "tags": []
   },
   "outputs": [
    {
     "data": {
      "image/png": "[encoded data removed]",
      "text/plain": [
       "<Figure size 640x480 with 1 Axes>"
      ]
     },
     "metadata": {},
     "output_type": "display_data"
    }
   ],
   "source": [
    "# Distribution plot\n",
    "sns.countplot(df, x=\"residence_type\")\n",
    "plt.show()"
   ]
  },
  {
   "cell_type": "markdown",
   "id": "c37bc771-1239-4602-b220-a194cb23be40",
   "metadata": {
    "tags": []
   },
   "source": [
    "# \"avg_glucose_level\" column"
   ]
  },
  {
   "cell_type": "markdown",
   "id": "c93552e4-0aaa-4fdd-afc1-28f6c759921c",
   "metadata": {},
   "source": [
    "We saw in the df.describe() that:\n",
    "1) there is no NaN"
   ]
  },
  {
   "cell_type": "code",
   "execution_count": 27,
   "id": "d17d0102-f677-40fc-9db4-bb85da5909ee",
   "metadata": {
    "tags": []
   },
   "outputs": [
    {
     "data": {
      "image/png": "[encoded data removed]",
      "text/plain": [
       "<Figure size 500x500 with 1 Axes>"
      ]
     },
     "metadata": {},
     "output_type": "display_data"
    }
   ],
   "source": [
    "# Distribution plot\n",
    "sns.displot( data=df[\"avg_glucose_level\"], kde=True )\n",
    "plt.show()"
   ]
  },
  {
   "cell_type": "markdown",
   "id": "dfd78b36-862c-4595-ae05-9c3c47892818",
   "metadata": {},
   "source": [
    "# \"bmi\" column"
   ]
  },
  {
   "cell_type": "markdown",
   "id": "4a422a73-789b-42da-8059-8a995a861f1d",
   "metadata": {
    "tags": []
   },
   "source": [
    "We saw in the df.describe() that we have Null values"
   ]
  },
  {
   "cell_type": "code",
   "execution_count": 28,
   "id": "16d89702-621e-449d-b5b7-ee15d07f4108",
   "metadata": {
    "tags": []
   },
   "outputs": [
    {
     "data": {
      "text/plain": [
       "201"
      ]
     },
     "execution_count": 28,
     "metadata": {},
     "output_type": "execute_result"
    }
   ],
   "source": [
    "# count of NaN\n",
    "df.bmi.isna().sum()"
   ]
  },
  {
   "cell_type": "markdown",
   "id": "54651e0e-d4c2-4d54-9e77-05ad48d4cac3",
   "metadata": {},
   "source": [
    "We will impute NaN by mean.<br/>\n",
    "We believe that it is more accurate to perform this imputation by separating groups by age and gender."
   ]
  },
  {
   "cell_type": "code",
   "execution_count": 29,
   "id": "93756acf-7661-4008-b7ba-ad0bee8df565",
   "metadata": {},
   "outputs": [
    {
     "data": {
      "text/html": [
       "<div>\n",
       "<style scoped>\n",
       "    .dataframe tbody tr th:only-of-type {\n",
       "        vertical-align: middle;\n",
       "    }\n",
       "\n",
       "    .dataframe tbody tr th {\n",
       "        vertical-align: top;\n",
       "    }\n",
       "\n",
       "    .dataframe thead th {\n",
       "        text-align: right;\n",
       "    }\n",
       "</style>\n",
       "<table border=\"1\" class=\"dataframe\">\n",
       "  <thead>\n",
       "    <tr style=\"text-align: right;\">\n",
       "      <th></th>\n",
       "      <th>gender</th>\n",
       "      <th>age</th>\n",
       "      <th>hypertension</th>\n",
       "      <th>heart_disease</th>\n",
       "      <th>ever_married</th>\n",
       "      <th>work_type</th>\n",
       "      <th>residence_type</th>\n",
       "      <th>avg_glucose_level</th>\n",
       "      <th>smoking_status</th>\n",
       "      <th>stroke</th>\n",
       "      <th>bmi</th>\n",
       "    </tr>\n",
       "  </thead>\n",
       "  <tbody>\n",
       "    <tr>\n",
       "      <th>0</th>\n",
       "      <td>Male</td>\n",
       "      <td>67.0</td>\n",
       "      <td>0</td>\n",
       "      <td>1</td>\n",
       "      <td>Yes</td>\n",
       "      <td>Private</td>\n",
       "      <td>Urban</td>\n",
       "      <td>228.69</td>\n",
       "      <td>formerly smoked</td>\n",
       "      <td>1</td>\n",
       "      <td>36.60</td>\n",
       "    </tr>\n",
       "    <tr>\n",
       "      <th>1</th>\n",
       "      <td>Female</td>\n",
       "      <td>61.0</td>\n",
       "      <td>0</td>\n",
       "      <td>0</td>\n",
       "      <td>Yes</td>\n",
       "      <td>Self-employed</td>\n",
       "      <td>Rural</td>\n",
       "      <td>202.21</td>\n",
       "      <td>never smoked</td>\n",
       "      <td>1</td>\n",
       "      <td>30.78</td>\n",
       "    </tr>\n",
       "    <tr>\n",
       "      <th>2</th>\n",
       "      <td>Male</td>\n",
       "      <td>80.0</td>\n",
       "      <td>0</td>\n",
       "      <td>1</td>\n",
       "      <td>Yes</td>\n",
       "      <td>Private</td>\n",
       "      <td>Rural</td>\n",
       "      <td>105.92</td>\n",
       "      <td>never smoked</td>\n",
       "      <td>1</td>\n",
       "      <td>32.50</td>\n",
       "    </tr>\n",
       "    <tr>\n",
       "      <th>3</th>\n",
       "      <td>Female</td>\n",
       "      <td>49.0</td>\n",
       "      <td>0</td>\n",
       "      <td>0</td>\n",
       "      <td>Yes</td>\n",
       "      <td>Private</td>\n",
       "      <td>Urban</td>\n",
       "      <td>171.23</td>\n",
       "      <td>smokes</td>\n",
       "      <td>1</td>\n",
       "      <td>34.40</td>\n",
       "    </tr>\n",
       "    <tr>\n",
       "      <th>4</th>\n",
       "      <td>Female</td>\n",
       "      <td>79.0</td>\n",
       "      <td>1</td>\n",
       "      <td>0</td>\n",
       "      <td>Yes</td>\n",
       "      <td>Self-employed</td>\n",
       "      <td>Rural</td>\n",
       "      <td>174.12</td>\n",
       "      <td>never smoked</td>\n",
       "      <td>1</td>\n",
       "      <td>24.00</td>\n",
       "    </tr>\n",
       "  </tbody>\n",
       "</table>\n",
       "</div>"
      ],
      "text/plain": [
       "   gender   age  hypertension  heart_disease ever_married      work_type  \\\n",
       "0    Male  67.0             0              1          Yes        Private   \n",
       "1  Female  61.0             0              0          Yes  Self-employed   \n",
       "2    Male  80.0             0              1          Yes        Private   \n",
       "3  Female  49.0             0              0          Yes        Private   \n",
       "4  Female  79.0             1              0          Yes  Self-employed   \n",
       "\n",
       "  residence_type  avg_glucose_level   smoking_status  stroke    bmi  \n",
       "0          Urban             228.69  formerly smoked       1  36.60  \n",
       "1          Rural             202.21     never smoked       1  30.78  \n",
       "2          Rural             105.92     never smoked       1  32.50  \n",
       "3          Urban             171.23           smokes       1  34.40  \n",
       "4          Rural             174.12     never smoked       1  24.00  "
      ]
     },
     "execution_count": 29,
     "metadata": {},
     "output_type": "execute_result"
    }
   ],
   "source": [
    "# Creation of age categories\n",
    "bins = [0, 10, 20, 30, 40, 50, 60, 70, 80, 90]\n",
    "labels = ['0-9', '10-19', '20-29', '30-39', '40-49', '50-59', '60-69', '70-79', '80-89']\n",
    "df['age_cat'] = pd.cut(df['age'], bins=bins, labels=labels, right=False)\n",
    "\n",
    "# Mean by \"age_cat\" and \"gender\"\n",
    "mean_bmi_by_group = df.groupby(['age_cat', 'gender'], observed=True)['bmi'].mean().reset_index()\n",
    "\n",
    "# Avoid conflict with column's name\n",
    "mean_bmi_by_group.rename(columns={'bmi': 'mean_bmi'}, inplace=True)\n",
    "\n",
    "# Merge with initial dataframe\n",
    "df_merged = pd.merge(df, mean_bmi_by_group, on=['age_cat', 'gender'], how='left')\n",
    "\n",
    "# Imputation of NaN values\n",
    "df_merged['bmi_imputed'] = df_merged['bmi'].fillna(df_merged['mean_bmi'])\n",
    "\n",
    "# Drop adding columns\n",
    "df = df_merged.drop(['bmi', 'mean_bmi', 'age_cat'], axis=1)\n",
    "\n",
    "# Formating\n",
    "df.rename(columns={'bmi_imputed': 'bmi'}, inplace=True)\n",
    "df['bmi'] = df['bmi'].round(2)\n",
    "\n",
    "# Observation\n",
    "df.head()"
   ]
  },
  {
   "cell_type": "markdown",
   "id": "64ef1e0d-455c-4cf0-b8a6-1c4ce984ff30",
   "metadata": {},
   "source": [
    "We don't have NaN yet"
   ]
  },
  {
   "cell_type": "code",
   "execution_count": 30,
   "id": "37e57918-31c0-4ed7-92e7-98f58d6c054a",
   "metadata": {},
   "outputs": [
    {
     "data": {
      "text/plain": [
       "0"
      ]
     },
     "execution_count": 30,
     "metadata": {},
     "output_type": "execute_result"
    }
   ],
   "source": [
    "# count of NaN\n",
    "df.bmi.isna().sum()"
   ]
  },
  {
   "cell_type": "code",
   "execution_count": 31,
   "id": "5555341a-ea7b-4245-aa49-6e47968636cd",
   "metadata": {
    "tags": []
   },
   "outputs": [
    {
     "data": {
      "image/png": "[encoded data removed]",
      "text/plain": [
       "<Figure size 500x500 with 1 Axes>"
      ]
     },
     "metadata": {},
     "output_type": "display_data"
    }
   ],
   "source": [
    "# Distribution plot\n",
    "sns.displot( data=df[\"bmi\"], kde=True )\n",
    "plt.show()"
   ]
  },
  {
   "cell_type": "markdown",
   "id": "5c8a06e7-ccea-40ac-b605-82d01f9c2168",
   "metadata": {},
   "source": [
    "# \"smoking_status\" column"
   ]
  },
  {
   "cell_type": "markdown",
   "id": "e719c3d9-38ca-430a-9fa3-570b6906c0c8",
   "metadata": {},
   "source": [
    "We already know that there is no NaN in this column (df.describe()).<br/>\n",
    "We will check the different possible modality."
   ]
  },
  {
   "cell_type": "code",
   "execution_count": 32,
   "id": "51bd4a7a-9fe8-4538-8edd-4a49ce5f4965",
   "metadata": {
    "tags": []
   },
   "outputs": [
    {
     "data": {
      "text/plain": [
       "smoking_status\n",
       "never smoked       1892\n",
       "Unknown            1544\n",
       "formerly smoked     885\n",
       "smokes              789\n",
       "Name: count, dtype: int64"
      ]
     },
     "execution_count": 32,
     "metadata": {},
     "output_type": "execute_result"
    }
   ],
   "source": [
    "# count of the different modalities\n",
    "df.smoking_status.value_counts()"
   ]
  },
  {
   "cell_type": "code",
   "execution_count": 33,
   "id": "ac052b0e-af18-40a0-a48b-44ca5f3d0d28",
   "metadata": {
    "tags": []
   },
   "outputs": [
    {
     "data": {
      "image/png": "[encoded data removed]",
      "text/plain": [
       "<Figure size 640x480 with 1 Axes>"
      ]
     },
     "metadata": {},
     "output_type": "display_data"
    }
   ],
   "source": [
    "# Distribution plot\n",
    "sns.countplot(df, x=\"smoking_status\")\n",
    "plt.show()"
   ]
  },
  {
   "cell_type": "markdown",
   "id": "aa7ca018-4488-41a8-9efc-a216b4e05cea",
   "metadata": {
    "tags": []
   },
   "source": [
    "# \"stroke\" column"
   ]
  },
  {
   "cell_type": "markdown",
   "id": "6d65d070-a123-479c-b1be-393ac81a1046",
   "metadata": {},
   "source": [
    "This is our target variable (boolean like (0 or 1))<br/>\n",
    "We already know that there is no NaN in this column (df.describe()).<br/>\n",
    "We will check the different possible modality."
   ]
  },
  {
   "cell_type": "code",
   "execution_count": 34,
   "id": "4a433926-1e36-43bd-b8e0-40546782bdbc",
   "metadata": {
    "scrolled": true,
    "tags": []
   },
   "outputs": [
    {
     "data": {
      "text/plain": [
       "stroke\n",
       "0    4861\n",
       "1     249\n",
       "Name: count, dtype: int64"
      ]
     },
     "execution_count": 34,
     "metadata": {},
     "output_type": "execute_result"
    }
   ],
   "source": [
    "# count of the different modalities\n",
    "df.stroke.value_counts()"
   ]
  },
  {
   "cell_type": "markdown",
   "id": "15fb438f-8784-4d7b-97ed-8524cce0ad37",
   "metadata": {},
   "source": [
    "This dataset is totally unbalanced.<br/>\n",
    "In this situation, a model will be excellent for detecting No stroke (0) but will be very bad to detect stroke (1).<br/>\n",
    "We will have to correct this situation before training our model later in the notebook."
   ]
  },
  {
   "cell_type": "code",
   "execution_count": 35,
   "id": "71f4087e-9c60-43b9-87fe-0dfe3312fd23",
   "metadata": {
    "tags": []
   },
   "outputs": [
    {
     "data": {
      "image/png": "[encoded data removed]",
      "text/plain": [
       "<Figure size 640x480 with 1 Axes>"
      ]
     },
     "metadata": {},
     "output_type": "display_data"
    }
   ],
   "source": [
    "# Distribution plot\n",
    "sns.countplot(df, x=\"stroke\")\n",
    "plt.show()"
   ]
  },
  {
   "cell_type": "markdown",
   "id": "b99f200d-06c5-4474-87d8-e088f549c53d",
   "metadata": {},
   "source": [
    "<div style=\"border: 1px solid RGB(51,165,182);\" >\n",
    "<h3 style=\"margin: auto; padding: 20px; color: RGB(51,165,182); \">Multivariate Data analysis</h3>\n",
    "</div>"
   ]
  },
  {
   "cell_type": "markdown",
   "id": "7409baa1-5378-4882-92d4-14eb893a70d3",
   "metadata": {},
   "source": [
    "We have 3 continuous variables in our dataset. ('age', 'bmi', 'avg_glucose_level')<br/>\n",
    "Searching for the most discriminating variables for explaining stroke can be interesting."
   ]
  },
  {
   "cell_type": "code",
   "execution_count": 36,
   "id": "ddbfdf62-990a-4f32-b9f1-05d0f7183807",
   "metadata": {},
   "outputs": [
    {
     "data": {
      "image/png": "[encoded data removed]",
      "text/plain": [
       "<Figure size 1800x400 with 3 Axes>"
      ]
     },
     "metadata": {},
     "output_type": "display_data"
    }
   ],
   "source": [
    "numeric_features = ['age', 'avg_glucose_level', 'bmi']\n",
    "\n",
    "# Subplots creation\n",
    "fig, axes = plt.subplots(1, len(numeric_features), figsize=(18, 4))\n",
    "\n",
    "# Loop through each numeric feature and plot a boxplot\n",
    "for i, feature in enumerate(numeric_features):\n",
    "    sns.boxplot(x='stroke', y=feature, data=df, ax=axes[i])\n",
    "    axes[i].set_title(f\"Distribution of {feature} by Stroke\")\n",
    "\n",
    "plt.show()"
   ]
  },
  {
   "cell_type": "markdown",
   "id": "791ff23c-05de-4022-8f00-fb31a4dd7900",
   "metadata": {
    "tags": []
   },
   "source": [
    "Age and avg_glucose_level can participate in explanation if a victim had a stroke.<br/>\n",
    "Surprisingly, bmi doesn't seem to be a good discriminant."
   ]
  },
  {
   "cell_type": "markdown",
   "id": "247ff946-8d9f-4de3-8c23-f9813edc9cfc",
   "metadata": {},
   "source": [
    "# ------------------------"
   ]
  },
  {
   "cell_type": "markdown",
   "id": "70aef6b0-9b05-4f32-8bb9-db65f8fed9b1",
   "metadata": {},
   "source": [
    "We have 7 discrete variables in our dataset. ('gender', 'hypertension', 'heart_disease', 'ever_married', 'work_type', 'Residence_type', 'smoking_status')<br/>\n",
    "Searching for the most discriminating variables for explaining stroke can be interesting."
   ]
  },
  {
   "cell_type": "markdown",
   "id": "c7cce79e-d6df-4564-bc9d-58b30e2cf599",
   "metadata": {},
   "source": [
    "# \"gender\" column"
   ]
  },
  {
   "cell_type": "code",
   "execution_count": 37,
   "id": "c01a857b-9c3c-4f96-bf1c-394b8c48a1bb",
   "metadata": {},
   "outputs": [
    {
     "data": {
      "image/png": "[encoded data removed]",
      "text/plain": [
       "<Figure size 1000x600 with 1 Axes>"
      ]
     },
     "metadata": {},
     "output_type": "display_data"
    }
   ],
   "source": [
    "# Filter of wanted columns\n",
    "df_filtered = df.filter(items=['gender', 'stroke'])\n",
    "\n",
    "# Map of modalities\n",
    "df_filtered['stroke'] = df_filtered['stroke'].map({1: 'Yes', 0: 'No'})\n",
    "\n",
    "# Percentages calculation\n",
    "pourcentages = df_filtered.groupby(['gender', 'stroke']).size().unstack() * 100 / df_filtered.groupby('gender').size().values[:, None]\n",
    "\n",
    "# Seaborn default colors\n",
    "sns.set_palette(\"colorblind\")\n",
    "\n",
    "# Subplots creation\n",
    "fig, ax = plt.subplots(figsize=(10, 6))\n",
    "pourcentages.plot(kind='bar', stacked=True, ax=ax, color=sns.color_palette(\"colorblind\"))\n",
    "\n",
    "# Look and feel\n",
    "ax.set_title('Percentage by genre')\n",
    "ax.set_xlabel('Gender')\n",
    "ax.set_ylabel('Pourcentage')\n",
    "ax.set_xticklabels(pourcentages.index, rotation=45, ha='right')\n",
    "\n",
    "# Legend\n",
    "handles, labels = ax.get_legend_handles_labels()\n",
    "ax.legend(handles=handles[::-1], labels=labels[::-1], title='Stroke', loc='upper right')\n",
    "\n",
    "# Display\n",
    "plt.tight_layout()\n",
    "plt.show()"
   ]
  },
  {
   "cell_type": "markdown",
   "id": "838ae5ee-3072-47b5-9f91-6c23718372b5",
   "metadata": {},
   "source": [
    "Gender doesn't seem to be a good discriminant."
   ]
  },
  {
   "cell_type": "markdown",
   "id": "bdb97c8a-9268-4660-b848-1d0d83b1923b",
   "metadata": {},
   "source": [
    "# \"hypertension\" column"
   ]
  },
  {
   "cell_type": "code",
   "execution_count": 38,
   "id": "dff658b6-d3e6-4fce-886b-42ec0a430ffd",
   "metadata": {},
   "outputs": [
    {
     "data": {
      "image/png": "[encoded data removed]",
      "text/plain": [
       "<Figure size 1000x600 with 1 Axes>"
      ]
     },
     "metadata": {},
     "output_type": "display_data"
    }
   ],
   "source": [
    "# Filter of wanted columns\n",
    "df_filtered = df.filter(items=['hypertension', 'stroke'])\n",
    "\n",
    "# Map of modalities\n",
    "df_filtered['hypertension'] = df_filtered['hypertension'].map({1: 'Yes', 0: 'No'})\n",
    "df_filtered['stroke'] = df_filtered['stroke'].map({1: 'Yes', 0: 'No'})\n",
    "\n",
    "# Percentages calculation\n",
    "pourcentages = df_filtered.groupby(['hypertension', 'stroke']).size().unstack() * 100 / df_filtered.groupby('hypertension').size().values[:, None]\n",
    "\n",
    "# Seaborn default colors\n",
    "sns.set_palette(\"colorblind\")\n",
    "\n",
    "# Subplots creation\n",
    "fig, ax = plt.subplots(figsize=(10, 6))\n",
    "pourcentages.plot(kind='bar', stacked=True, ax=ax, color=sns.color_palette(\"colorblind\"))\n",
    "\n",
    "# Look and feel\n",
    "ax.set_title('Percentage by hypertension')\n",
    "ax.set_xlabel('hypertension')\n",
    "ax.set_ylabel('Pourcentage')\n",
    "ax.set_xticklabels(pourcentages.index, rotation=45, ha='right')\n",
    "\n",
    "# Legend\n",
    "handles, labels = ax.get_legend_handles_labels()\n",
    "ax.legend(handles=handles[::-1], labels=labels[::-1], title='Stroke', loc='upper right')\n",
    "\n",
    "# Display\n",
    "plt.tight_layout()\n",
    "plt.show()"
   ]
  },
  {
   "cell_type": "markdown",
   "id": "eb275faf-2eb3-4bbf-bad1-95c9835459a9",
   "metadata": {},
   "source": [
    "It seems that hypertension has an influence for stroke."
   ]
  },
  {
   "cell_type": "markdown",
   "id": "dcc7dba4-a5e9-47e0-a616-e1578264ba4e",
   "metadata": {},
   "source": [
    "# \"heart_disease\" column"
   ]
  },
  {
   "cell_type": "code",
   "execution_count": 39,
   "id": "448189a6-7875-41a8-928d-4cc78084c90c",
   "metadata": {},
   "outputs": [
    {
     "data": {
      "image/png": "[encoded data removed]",
      "text/plain": [
       "<Figure size 1000x600 with 1 Axes>"
      ]
     },
     "metadata": {},
     "output_type": "display_data"
    }
   ],
   "source": [
    "# Filter of wanted columns\n",
    "df_filtered = df.filter(items=['heart_disease', 'stroke'])\n",
    "\n",
    "# Map of modalities\n",
    "df_filtered['heart_disease'] = df_filtered['heart_disease'].map({1: 'Yes', 0: 'No'})\n",
    "df_filtered['stroke'] = df_filtered['stroke'].map({1: 'Yes', 0: 'No'})\n",
    "\n",
    "# Percentages calculation\n",
    "pourcentages = df_filtered.groupby(['heart_disease', 'stroke']).size().unstack() * 100 / df_filtered.groupby('heart_disease').size().values[:, None]\n",
    "\n",
    "# Seaborn default colors\n",
    "sns.set_palette(\"colorblind\")\n",
    "\n",
    "# Subplots creation\n",
    "fig, ax = plt.subplots(figsize=(10, 6))\n",
    "pourcentages.plot(kind='bar', stacked=True, ax=ax, color=sns.color_palette(\"colorblind\"))\n",
    "\n",
    "# Look and feel\n",
    "ax.set_title('Percentage by heart_disease')\n",
    "ax.set_xlabel('heart_disease')\n",
    "ax.set_ylabel('Pourcentage')\n",
    "ax.set_xticklabels(pourcentages.index, rotation=45, ha='right')\n",
    "\n",
    "# Legend\n",
    "handles, labels = ax.get_legend_handles_labels()\n",
    "ax.legend(handles=handles[::-1], labels=labels[::-1], title='Stroke', loc='upper right')\n",
    "\n",
    "# Display\n",
    "plt.tight_layout()\n",
    "plt.show()"
   ]
  },
  {
   "cell_type": "markdown",
   "id": "54f8fd39-c8b2-439d-9e4b-6fedff8aed4b",
   "metadata": {},
   "source": [
    "Even if it is obvious, it seems that heart_disease has an influence for stroke. "
   ]
  },
  {
   "cell_type": "markdown",
   "id": "46a7c618-8459-45e6-b347-883b6c9ac937",
   "metadata": {},
   "source": [
    "# \"ever_married\" column"
   ]
  },
  {
   "cell_type": "code",
   "execution_count": 40,
   "id": "35d4c9b1-df2a-4f1f-ac04-801d4248830d",
   "metadata": {},
   "outputs": [
    {
     "data": {
      "image/png": "[encoded data removed]",
      "text/plain": [
       "<Figure size 1000x600 with 1 Axes>"
      ]
     },
     "metadata": {},
     "output_type": "display_data"
    }
   ],
   "source": [
    "# Filter of wanted columns\n",
    "df_filtered = df.filter(items=['ever_married', 'stroke'])\n",
    "\n",
    "# Map of modalities\n",
    "df_filtered['stroke'] = df_filtered['stroke'].map({1: 'Yes', 0: 'No'})\n",
    "\n",
    "# Percentages calculation\n",
    "pourcentages = df_filtered.groupby(['ever_married', 'stroke']).size().unstack() * 100 / df_filtered.groupby('ever_married').size().values[:, None]\n",
    "\n",
    "# Seaborn default colors\n",
    "sns.set_palette(\"colorblind\")\n",
    "\n",
    "# Subplots creation\n",
    "fig, ax = plt.subplots(figsize=(10, 6))\n",
    "pourcentages.plot(kind='bar', stacked=True, ax=ax, color=sns.color_palette(\"colorblind\"))\n",
    "\n",
    "# Look and feel\n",
    "ax.set_title('Percentage by ever_married')\n",
    "ax.set_xlabel('ever_married')\n",
    "ax.set_ylabel('Pourcentage')\n",
    "ax.set_xticklabels(pourcentages.index, rotation=45, ha='right')\n",
    "\n",
    "# Legend\n",
    "handles, labels = ax.get_legend_handles_labels()\n",
    "ax.legend(handles=handles[::-1], labels=labels[::-1], title='Stroke', loc='upper right')\n",
    "\n",
    "# Display\n",
    "plt.tight_layout()\n",
    "plt.show()"
   ]
  },
  {
   "cell_type": "markdown",
   "id": "6fac8ac3-0ed5-4dd8-9dd0-2408e87df38f",
   "metadata": {},
   "source": [
    "It seems that ever_married has a small influence for stroke."
   ]
  },
  {
   "cell_type": "markdown",
   "id": "2ceaa1cb-f713-4ee1-8c74-2bf7f1bfbffb",
   "metadata": {},
   "source": [
    "# \"work_type\" column"
   ]
  },
  {
   "cell_type": "code",
   "execution_count": 41,
   "id": "d8b9341c-ba4d-4ba6-96bb-3460b0cf7e33",
   "metadata": {},
   "outputs": [
    {
     "data": {
      "image/png": "[encoded data removed]",
      "text/plain": [
       "<Figure size 1000x600 with 1 Axes>"
      ]
     },
     "metadata": {},
     "output_type": "display_data"
    }
   ],
   "source": [
    "# Filter of wanted columns\n",
    "df_filtered = df.filter(items=['work_type', 'stroke'])\n",
    "\n",
    "# Map of modalities\n",
    "df_filtered['stroke'] = df_filtered['stroke'].map({1: 'Yes', 0: 'No'})\n",
    "\n",
    "# Percentages calculation\n",
    "pourcentages = df_filtered.groupby(['work_type', 'stroke']).size().unstack() * 100 / df_filtered.groupby('work_type').size().values[:, None]\n",
    "\n",
    "# Seaborn default colors\n",
    "sns.set_palette(\"colorblind\")\n",
    "\n",
    "# Subplots creation\n",
    "fig, ax = plt.subplots(figsize=(10, 6))\n",
    "pourcentages.plot(kind='bar', stacked=True, ax=ax, color=sns.color_palette(\"colorblind\"))\n",
    "\n",
    "# Look and feel\n",
    "ax.set_title('Percentage by work_type')\n",
    "ax.set_xlabel('work_type')\n",
    "ax.set_ylabel('Pourcentage')\n",
    "ax.set_xticklabels(pourcentages.index, rotation=45, ha='right')\n",
    "\n",
    "# Legend\n",
    "handles, labels = ax.get_legend_handles_labels()\n",
    "ax.legend(handles=handles[::-1], labels=labels[::-1], title='Stroke', loc='upper right')\n",
    "\n",
    "# Display\n",
    "plt.tight_layout()\n",
    "plt.show()"
   ]
  },
  {
   "cell_type": "markdown",
   "id": "2bfee431-8a78-4e12-b31c-3bddce52eaff",
   "metadata": {},
   "source": [
    "Self-employed, Private and Govt_job people seem have more stroke than others.<br/>\n",
    "And Never_worked people don't seem to have stroke.<br/>\n",
    "Obviously, this is only a general trend in this dataset and we have to stay prudent in our hypothesis."
   ]
  },
  {
   "cell_type": "markdown",
   "id": "484eb159-5131-43f3-8803-2fd563ea967f",
   "metadata": {},
   "source": [
    "# \"residence_type\" column"
   ]
  },
  {
   "cell_type": "code",
   "execution_count": 42,
   "id": "508c5ca7-b859-41f0-8563-43e968449dce",
   "metadata": {},
   "outputs": [
    {
     "data": {
      "image/png": "[encoded data removed]",
      "text/plain": [
       "<Figure size 1000x600 with 1 Axes>"
      ]
     },
     "metadata": {},
     "output_type": "display_data"
    }
   ],
   "source": [
    "# Filter of wanted columns\n",
    "df_filtered = df.filter(items=['residence_type', 'stroke'])\n",
    "\n",
    "# Map of modalities\n",
    "df_filtered['stroke'] = df_filtered['stroke'].map({1: 'Yes', 0: 'No'})\n",
    "\n",
    "# Percentages calculation\n",
    "pourcentages = df_filtered.groupby(['residence_type', 'stroke']).size().unstack() * 100 / df_filtered.groupby('residence_type').size().values[:, None]\n",
    "\n",
    "# Seaborn default colors\n",
    "sns.set_palette(\"colorblind\")\n",
    "\n",
    "# Subplots creation\n",
    "fig, ax = plt.subplots(figsize=(10, 6))\n",
    "pourcentages.plot(kind='bar', stacked=True, ax=ax, color=sns.color_palette(\"colorblind\"))\n",
    "\n",
    "# Look and feel\n",
    "ax.set_title('Percentage by residence_type')\n",
    "ax.set_xlabel('residence_type')\n",
    "ax.set_ylabel('Pourcentage')\n",
    "ax.set_xticklabels(pourcentages.index, rotation=45, ha='right')\n",
    "\n",
    "# Legend\n",
    "handles, labels = ax.get_legend_handles_labels()\n",
    "ax.legend(handles=handles[::-1], labels=labels[::-1], title='Stroke', loc='upper right')\n",
    "\n",
    "# Display\n",
    "plt.tight_layout()\n",
    "plt.show()"
   ]
  },
  {
   "cell_type": "markdown",
   "id": "a59638cd-0580-4bf6-a2d4-80d77a0b7a9b",
   "metadata": {},
   "source": [
    "residence_type doesn't seem to be a good discriminant."
   ]
  },
  {
   "cell_type": "markdown",
   "id": "cc350c3c-22d0-4ffa-9ad0-b1047d824360",
   "metadata": {},
   "source": [
    "# \"smoking_status\" column"
   ]
  },
  {
   "cell_type": "code",
   "execution_count": 43,
   "id": "144e0692-5220-4eb2-a481-282c6bc9ee3f",
   "metadata": {},
   "outputs": [
    {
     "data": {
      "image/png": "[encoded data removed]",
      "text/plain": [
       "<Figure size 1000x600 with 1 Axes>"
      ]
     },
     "metadata": {},
     "output_type": "display_data"
    }
   ],
   "source": [
    "# Filter of wanted columns\n",
    "df_filtered = df.filter(items=['smoking_status', 'stroke'])\n",
    "\n",
    "# Map of modalities\n",
    "df_filtered['stroke'] = df_filtered['stroke'].map({1: 'Yes', 0: 'No'})\n",
    "\n",
    "# Percentages calculation\n",
    "pourcentages = df_filtered.groupby(['smoking_status', 'stroke']).size().unstack() * 100 / df_filtered.groupby('smoking_status').size().values[:, None]\n",
    "\n",
    "# Seaborn default colors\n",
    "sns.set_palette(\"colorblind\")\n",
    "\n",
    "# Subplots creation\n",
    "fig, ax = plt.subplots(figsize=(10, 6))\n",
    "pourcentages.plot(kind='bar', stacked=True, ax=ax, color=sns.color_palette(\"colorblind\"))\n",
    "\n",
    "# Look and feel\n",
    "ax.set_title('Percentage by smoking_status')\n",
    "ax.set_xlabel('smoking_status')\n",
    "ax.set_ylabel('Pourcentage')\n",
    "ax.set_xticklabels(pourcentages.index, rotation=45, ha='right')\n",
    "\n",
    "# Legend\n",
    "handles, labels = ax.get_legend_handles_labels()\n",
    "ax.legend(handles=handles[::-1], labels=labels[::-1], title='Stroke', loc='upper right')\n",
    "\n",
    "# Display\n",
    "plt.tight_layout()\n",
    "plt.show()"
   ]
  },
  {
   "cell_type": "markdown",
   "id": "dec26483-e933-41b4-a7d2-53b74fddcde1",
   "metadata": {},
   "source": [
    "It seems that smoking_status doesn't have a huge influence on stroke.<br/>\n",
    "We just observe a bigger part of stroke for formerly smoked people but even in this case the percentage is not huge."
   ]
  },
  {
   "cell_type": "markdown",
   "id": "b6407c26-cc1a-4363-be81-d529b4f123f5",
   "metadata": {},
   "source": [
    "# ------------------------"
   ]
  },
  {
   "cell_type": "markdown",
   "id": "f1e91bda-7975-4865-abfa-c8cda4ea8ffd",
   "metadata": {},
   "source": [
    "We will have to produce a correlation heatmap which is another way to understand our data and the possible correlations from our variables and stroke."
   ]
  },
  {
   "cell_type": "code",
   "execution_count": 44,
   "id": "3a9cac09-f5d2-4e51-8dd2-fd72e3ea7348",
   "metadata": {},
   "outputs": [],
   "source": [
    "# Catch quantitative variable in a list\n",
    "quantitative_columns = df.describe().columns.tolist()"
   ]
  },
  {
   "cell_type": "code",
   "execution_count": 45,
   "id": "801bb786-787d-408a-9747-4591ee74efff",
   "metadata": {},
   "outputs": [
    {
     "data": {
      "image/png": "[encoded data removed]",
      "text/plain": [
       "<Figure size 1600x600 with 2 Axes>"
      ]
     },
     "metadata": {},
     "output_type": "display_data"
    }
   ],
   "source": [
    "# Correlation Heatmap\n",
    "plt.figure(figsize=(16, 6))\n",
    "sns.heatmap(df[quantitative_columns].corr(), annot=True, linewidth=.5, cmap='BrBG')\n",
    "plt.title(\"Correlation Heatmap\")\n",
    "plt.show()"
   ]
  },
  {
   "cell_type": "markdown",
   "id": "0bb9a848-da78-4a58-901a-dca44471cd17",
   "metadata": {},
   "source": [
    "We find the same hypothesis that we saw previously:\n",
    "- age is the most correlated variable with 0.25\n",
    "- hypertension, heart_disease and avg_glucose_level have a small correlation ex-aequo to 0.13\n",
    "- ever_married is a small negative correlation with -0.11\n",
    "- other variables are not strongly correlated"
   ]
  },
  {
   "cell_type": "markdown",
   "id": "87cfd52c-8604-47a1-9e50-c55e28fddcce",
   "metadata": {},
   "source": [
    "<div style=\"border: 1px solid RGB(51,165,182);\" >\n",
    "<h3 style=\"margin: auto; padding: 20px; color: RGB(51,165,182); \">Preprocessing</h3>\n",
    "</div>"
   ]
  },
  {
   "cell_type": "markdown",
   "id": "de350e1c-6c25-4692-9c08-35ca7db9ff6a",
   "metadata": {},
   "source": [
    "First, we replace strings with integers:"
   ]
  },
  {
   "cell_type": "code",
   "execution_count": 46,
   "id": "24c86174-b454-4982-af5e-a3d04693811a",
   "metadata": {},
   "outputs": [
    {
     "data": {
      "text/html": [
       "<div>\n",
       "<style scoped>\n",
       "    .dataframe tbody tr th:only-of-type {\n",
       "        vertical-align: middle;\n",
       "    }\n",
       "\n",
       "    .dataframe tbody tr th {\n",
       "        vertical-align: top;\n",
       "    }\n",
       "\n",
       "    .dataframe thead th {\n",
       "        text-align: right;\n",
       "    }\n",
       "</style>\n",
       "<table border=\"1\" class=\"dataframe\">\n",
       "  <thead>\n",
       "    <tr style=\"text-align: right;\">\n",
       "      <th></th>\n",
       "      <th>gender</th>\n",
       "      <th>age</th>\n",
       "      <th>hypertension</th>\n",
       "      <th>heart_disease</th>\n",
       "      <th>ever_married</th>\n",
       "      <th>work_type</th>\n",
       "      <th>residence_type</th>\n",
       "      <th>avg_glucose_level</th>\n",
       "      <th>smoking_status</th>\n",
       "      <th>stroke</th>\n",
       "      <th>bmi</th>\n",
       "    </tr>\n",
       "  </thead>\n",
       "  <tbody>\n",
       "    <tr>\n",
       "      <th>0</th>\n",
       "      <td>1</td>\n",
       "      <td>67.0</td>\n",
       "      <td>0</td>\n",
       "      <td>1</td>\n",
       "      <td>1</td>\n",
       "      <td>2</td>\n",
       "      <td>1</td>\n",
       "      <td>228.69</td>\n",
       "      <td>1</td>\n",
       "      <td>1</td>\n",
       "      <td>36.60</td>\n",
       "    </tr>\n",
       "    <tr>\n",
       "      <th>1</th>\n",
       "      <td>0</td>\n",
       "      <td>61.0</td>\n",
       "      <td>0</td>\n",
       "      <td>0</td>\n",
       "      <td>1</td>\n",
       "      <td>3</td>\n",
       "      <td>0</td>\n",
       "      <td>202.21</td>\n",
       "      <td>2</td>\n",
       "      <td>1</td>\n",
       "      <td>30.78</td>\n",
       "    </tr>\n",
       "    <tr>\n",
       "      <th>2</th>\n",
       "      <td>1</td>\n",
       "      <td>80.0</td>\n",
       "      <td>0</td>\n",
       "      <td>1</td>\n",
       "      <td>1</td>\n",
       "      <td>2</td>\n",
       "      <td>0</td>\n",
       "      <td>105.92</td>\n",
       "      <td>2</td>\n",
       "      <td>1</td>\n",
       "      <td>32.50</td>\n",
       "    </tr>\n",
       "    <tr>\n",
       "      <th>3</th>\n",
       "      <td>0</td>\n",
       "      <td>49.0</td>\n",
       "      <td>0</td>\n",
       "      <td>0</td>\n",
       "      <td>1</td>\n",
       "      <td>2</td>\n",
       "      <td>1</td>\n",
       "      <td>171.23</td>\n",
       "      <td>3</td>\n",
       "      <td>1</td>\n",
       "      <td>34.40</td>\n",
       "    </tr>\n",
       "    <tr>\n",
       "      <th>4</th>\n",
       "      <td>0</td>\n",
       "      <td>79.0</td>\n",
       "      <td>1</td>\n",
       "      <td>0</td>\n",
       "      <td>1</td>\n",
       "      <td>3</td>\n",
       "      <td>0</td>\n",
       "      <td>174.12</td>\n",
       "      <td>2</td>\n",
       "      <td>1</td>\n",
       "      <td>24.00</td>\n",
       "    </tr>\n",
       "  </tbody>\n",
       "</table>\n",
       "</div>"
      ],
      "text/plain": [
       "   gender   age  hypertension  heart_disease  ever_married  work_type  \\\n",
       "0       1  67.0             0              1             1          2   \n",
       "1       0  61.0             0              0             1          3   \n",
       "2       1  80.0             0              1             1          2   \n",
       "3       0  49.0             0              0             1          2   \n",
       "4       0  79.0             1              0             1          3   \n",
       "\n",
       "   residence_type  avg_glucose_level  smoking_status  stroke    bmi  \n",
       "0               1             228.69               1       1  36.60  \n",
       "1               0             202.21               2       1  30.78  \n",
       "2               0             105.92               2       1  32.50  \n",
       "3               1             171.23               3       1  34.40  \n",
       "4               0             174.12               2       1  24.00  "
      ]
     },
     "execution_count": 46,
     "metadata": {},
     "output_type": "execute_result"
    }
   ],
   "source": [
    "# Convert categorical in integers with LabelEncoder\n",
    "le = LabelEncoder()\n",
    "df['gender'] = le.fit_transform(df['gender'])\n",
    "df['ever_married'] = le.fit_transform(df['ever_married'])\n",
    "df['work_type'] = le.fit_transform(df['work_type'])\n",
    "df['residence_type'] = le.fit_transform(df['residence_type'])\n",
    "df['smoking_status'] = le.fit_transform(df['smoking_status'])\n",
    "df.head()"
   ]
  },
  {
   "cell_type": "markdown",
   "id": "e6cd01d5-f355-4f21-831b-b3ac6fda08ac",
   "metadata": {},
   "source": [
    "**Normalization and standardization** are two techniques commonly used to scale data before using it in machine learning models.<br/>\n",
    "It's sometimes difficult to decide whether to apply one or the other, both or nothing at all.<br/>\n",
    "**Normalization** allows all variables to be put on the same scale, usually between 0 and 1.\n",
    "This is useful when the data have non-normal distributions or when the amplitudes of the variables are very different.<br/>\n",
    "<br/>\n",
    "**Standardization** centers the data around 0 with a standard deviation of 1.<br/>\n",
    "This works well when the data follow a normal or approximately normal distribution.<br/>\n",
    "<br/>\n",
    "**In this case, we choose to normalize because we have some different scales and 'avg_glucose_level' column has not a normal distribution.**"
   ]
  },
  {
   "cell_type": "code",
   "execution_count": 47,
   "id": "6a5569ac-7ada-4ecf-8981-6af7b4ebf71d",
   "metadata": {},
   "outputs": [],
   "source": [
    "# Split between X (features) and y (target variable)\n",
    "X = df.drop(columns='stroke')\n",
    "y = df.stroke"
   ]
  },
  {
   "cell_type": "code",
   "execution_count": 48,
   "id": "0bea69f0-92b2-437e-82a2-74a5cc7d4c6b",
   "metadata": {},
   "outputs": [
    {
     "data": {
      "text/html": [
       "<div>\n",
       "<style scoped>\n",
       "    .dataframe tbody tr th:only-of-type {\n",
       "        vertical-align: middle;\n",
       "    }\n",
       "\n",
       "    .dataframe tbody tr th {\n",
       "        vertical-align: top;\n",
       "    }\n",
       "\n",
       "    .dataframe thead th {\n",
       "        text-align: right;\n",
       "    }\n",
       "</style>\n",
       "<table border=\"1\" class=\"dataframe\">\n",
       "  <thead>\n",
       "    <tr style=\"text-align: right;\">\n",
       "      <th></th>\n",
       "      <th>gender</th>\n",
       "      <th>age</th>\n",
       "      <th>hypertension</th>\n",
       "      <th>heart_disease</th>\n",
       "      <th>ever_married</th>\n",
       "      <th>work_type</th>\n",
       "      <th>residence_type</th>\n",
       "      <th>avg_glucose_level</th>\n",
       "      <th>smoking_status</th>\n",
       "      <th>bmi</th>\n",
       "    </tr>\n",
       "  </thead>\n",
       "  <tbody>\n",
       "    <tr>\n",
       "      <th>count</th>\n",
       "      <td>5110.000000</td>\n",
       "      <td>5110.000000</td>\n",
       "      <td>5110.000000</td>\n",
       "      <td>5110.000000</td>\n",
       "      <td>5110.000000</td>\n",
       "      <td>5110.000000</td>\n",
       "      <td>5110.000000</td>\n",
       "      <td>5110.000000</td>\n",
       "      <td>5110.000000</td>\n",
       "      <td>5110.000000</td>\n",
       "    </tr>\n",
       "    <tr>\n",
       "      <th>mean</th>\n",
       "      <td>0.207143</td>\n",
       "      <td>0.526692</td>\n",
       "      <td>0.097456</td>\n",
       "      <td>0.054012</td>\n",
       "      <td>0.656164</td>\n",
       "      <td>0.541928</td>\n",
       "      <td>0.508023</td>\n",
       "      <td>0.235563</td>\n",
       "      <td>0.458969</td>\n",
       "      <td>0.213261</td>\n",
       "    </tr>\n",
       "    <tr>\n",
       "      <th>std</th>\n",
       "      <td>0.246522</td>\n",
       "      <td>0.276033</td>\n",
       "      <td>0.296607</td>\n",
       "      <td>0.226063</td>\n",
       "      <td>0.475034</td>\n",
       "      <td>0.272573</td>\n",
       "      <td>0.499985</td>\n",
       "      <td>0.209046</td>\n",
       "      <td>0.357178</td>\n",
       "      <td>0.088493</td>\n",
       "    </tr>\n",
       "    <tr>\n",
       "      <th>min</th>\n",
       "      <td>0.000000</td>\n",
       "      <td>0.000000</td>\n",
       "      <td>0.000000</td>\n",
       "      <td>0.000000</td>\n",
       "      <td>0.000000</td>\n",
       "      <td>0.000000</td>\n",
       "      <td>0.000000</td>\n",
       "      <td>0.000000</td>\n",
       "      <td>0.000000</td>\n",
       "      <td>0.000000</td>\n",
       "    </tr>\n",
       "    <tr>\n",
       "      <th>25%</th>\n",
       "      <td>0.000000</td>\n",
       "      <td>0.304199</td>\n",
       "      <td>0.000000</td>\n",
       "      <td>0.000000</td>\n",
       "      <td>0.000000</td>\n",
       "      <td>0.500000</td>\n",
       "      <td>0.000000</td>\n",
       "      <td>0.102137</td>\n",
       "      <td>0.000000</td>\n",
       "      <td>0.153494</td>\n",
       "    </tr>\n",
       "    <tr>\n",
       "      <th>50%</th>\n",
       "      <td>0.000000</td>\n",
       "      <td>0.548340</td>\n",
       "      <td>0.000000</td>\n",
       "      <td>0.000000</td>\n",
       "      <td>1.000000</td>\n",
       "      <td>0.500000</td>\n",
       "      <td>1.000000</td>\n",
       "      <td>0.169721</td>\n",
       "      <td>0.666667</td>\n",
       "      <td>0.206186</td>\n",
       "    </tr>\n",
       "    <tr>\n",
       "      <th>75%</th>\n",
       "      <td>0.500000</td>\n",
       "      <td>0.743652</td>\n",
       "      <td>0.000000</td>\n",
       "      <td>0.000000</td>\n",
       "      <td>1.000000</td>\n",
       "      <td>0.750000</td>\n",
       "      <td>1.000000</td>\n",
       "      <td>0.272228</td>\n",
       "      <td>0.666667</td>\n",
       "      <td>0.257732</td>\n",
       "    </tr>\n",
       "    <tr>\n",
       "      <th>max</th>\n",
       "      <td>1.000000</td>\n",
       "      <td>1.000000</td>\n",
       "      <td>1.000000</td>\n",
       "      <td>1.000000</td>\n",
       "      <td>1.000000</td>\n",
       "      <td>1.000000</td>\n",
       "      <td>1.000000</td>\n",
       "      <td>1.000000</td>\n",
       "      <td>1.000000</td>\n",
       "      <td>1.000000</td>\n",
       "    </tr>\n",
       "  </tbody>\n",
       "</table>\n",
       "</div>"
      ],
      "text/plain": [
       "            gender          age  hypertension  heart_disease  ever_married  \\\n",
       "count  5110.000000  5110.000000   5110.000000    5110.000000   5110.000000   \n",
       "mean      0.207143     0.526692      0.097456       0.054012      0.656164   \n",
       "std       0.246522     0.276033      0.296607       0.226063      0.475034   \n",
       "min       0.000000     0.000000      0.000000       0.000000      0.000000   \n",
       "25%       0.000000     0.304199      0.000000       0.000000      0.000000   \n",
       "50%       0.000000     0.548340      0.000000       0.000000      1.000000   \n",
       "75%       0.500000     0.743652      0.000000       0.000000      1.000000   \n",
       "max       1.000000     1.000000      1.000000       1.000000      1.000000   \n",
       "\n",
       "         work_type  residence_type  avg_glucose_level  smoking_status  \\\n",
       "count  5110.000000     5110.000000        5110.000000     5110.000000   \n",
       "mean      0.541928        0.508023           0.235563        0.458969   \n",
       "std       0.272573        0.499985           0.209046        0.357178   \n",
       "min       0.000000        0.000000           0.000000        0.000000   \n",
       "25%       0.500000        0.000000           0.102137        0.000000   \n",
       "50%       0.500000        1.000000           0.169721        0.666667   \n",
       "75%       0.750000        1.000000           0.272228        0.666667   \n",
       "max       1.000000        1.000000           1.000000        1.000000   \n",
       "\n",
       "               bmi  \n",
       "count  5110.000000  \n",
       "mean      0.213261  \n",
       "std       0.088493  \n",
       "min       0.000000  \n",
       "25%       0.153494  \n",
       "50%       0.206186  \n",
       "75%       0.257732  \n",
       "max       1.000000  "
      ]
     },
     "execution_count": 48,
     "metadata": {},
     "output_type": "execute_result"
    }
   ],
   "source": [
    "# Normalization with MinMaxScaler\n",
    "scaler = MinMaxScaler().fit_transform(X)\n",
    "X = pd.DataFrame(scaler, columns=X.columns)\n",
    "X.describe()"
   ]
  },
  {
   "cell_type": "markdown",
   "id": "fb2c4310-21ea-47ec-9f78-a21a2075cf87",
   "metadata": {},
   "source": [
    "As we know, we have a highly unbalanced dataset.<br/>\n",
    "4861 (False) vs 249 (True)<br/>\n",
    "\n",
    "**We are going to use the SMOTE method:**<br/>\n",
    "\"SMOTE (Synthetic Minority Over-sampling Technique) is an oversampling method that creates new synthetic examples of the minority class using neighborhood techniques. This balances classes in unbalanced datasets, improving model performance by avoiding bias towards the majority class.\""
   ]
  },
  {
   "cell_type": "code",
   "execution_count": 49,
   "id": "c03da09e-1cdf-4d3e-9fe2-8b9bc1c7c6e8",
   "metadata": {},
   "outputs": [
    {
     "name": "stdout",
     "output_type": "stream",
     "text": [
      "### Count before SMOTE ###\n",
      "stroke\n",
      "0    3663\n",
      "1     169\n",
      "Name: count, dtype: int64\n",
      "### Count after SMOTE ###\n",
      "stroke\n",
      "0    3663\n",
      "1    3663\n",
      "Name: count, dtype: int64\n"
     ]
    }
   ],
   "source": [
    "# Split between Train and Test dataset\n",
    "X_train, X_test, y_train, y_test = train_test_split(X, y, test_size=0.25, random_state=42)\n",
    "\n",
    "# Count before SMOTE\n",
    "print(\"### Count before SMOTE ###\")\n",
    "print(y_train.value_counts())\n",
    "\n",
    "# Apply SMOTE to the train dataset\n",
    "smote = SMOTE(random_state=42)\n",
    "X_train, y_train = smote.fit_resample(X_train, y_train)\n",
    "\n",
    "# Count after SMOTE\n",
    "print(\"### Count after SMOTE ###\")\n",
    "print(y_train.value_counts())"
   ]
  },
  {
   "cell_type": "markdown",
   "id": "efd7f57c-272f-4aec-aa57-c72677ea89fd",
   "metadata": {},
   "source": [
    "Repartition of the dataset is now corrected"
   ]
  },
  {
   "cell_type": "markdown",
   "id": "29fefdb0-3952-4c92-93fe-b16ecc48d47c",
   "metadata": {},
   "source": [
    "<div style=\"border: 1px solid RGB(51,165,182);\" >\n",
    "<h3 style=\"margin: auto; padding: 20px; color: RGB(51,165,182); \">Modeling</h3>\n",
    "</div>"
   ]
  },
  {
   "cell_type": "markdown",
   "id": "ea4941b7-7def-4b11-99e7-aa1d5ad87d76",
   "metadata": {},
   "source": [
    "It is often difficult to decide which type of model to choose.<br/>\n",
    "Here we have a rather small dataset and a classification problem (2 classes).<br/>\n",
    "Let's compare these 3 approaches:<br/>\n",
    "- Logistic regression :\n",
    "\t- Suitable for binary classification problems.\n",
    "\t- Easy to interpret.\n",
    "- Decision Trees:\n",
    "\t- Can handle categorical data without preprocessing.\n",
    "\t- Interpretable and can capture non-linear interactions.\n",
    "- Random Forests:\n",
    "\t- Combination of decision trees.\n",
    "\t- Handles categorical and numerical data well.\n",
    "    - Good for reducing overfitting."
   ]
  },
  {
   "cell_type": "markdown",
   "id": "db71c0f8-5fc3-4a13-9e1f-5cabd66f635d",
   "metadata": {},
   "source": [
    "# Logistic Regression"
   ]
  },
  {
   "cell_type": "code",
   "execution_count": 50,
   "id": "757cd01a-b8f3-4f06-81b0-d5ea3266d9ea",
   "metadata": {},
   "outputs": [
    {
     "data": {
      "image/png": "[encoded data removed]",
      "text/plain": [
       "<Figure size 800x600 with 2 Axes>"
      ]
     },
     "metadata": {},
     "output_type": "display_data"
    }
   ],
   "source": [
    "# Model\n",
    "model = LogisticRegression()\n",
    "model.fit(X_train, y_train)\n",
    "y_pred = model.predict(X_test)\n",
    "\n",
    "# Confusion matrix\n",
    "conf_matrix = confusion_matrix(y_test, y_pred)\n",
    "\n",
    "# Heatmap\n",
    "plt.figure(figsize=(8, 6))\n",
    "sns.heatmap(conf_matrix, annot=True, fmt='d', cmap='BrBG')\n",
    "plt.title('Confusion matrix')\n",
    "plt.xlabel('Predictions')\n",
    "plt.ylabel('True values')\n",
    "plt.show()"
   ]
  },
  {
   "cell_type": "code",
   "execution_count": 51,
   "id": "f420d964-9ed8-4168-b14b-3a471aa58963",
   "metadata": {},
   "outputs": [
    {
     "name": "stdout",
     "output_type": "stream",
     "text": [
      "Classification report:\n",
      "              precision    recall  f1-score   support\n",
      "\n",
      "           0       0.98      0.76      0.86      1198\n",
      "           1       0.17      0.72      0.27        80\n",
      "\n",
      "    accuracy                           0.76      1278\n",
      "   macro avg       0.57      0.74      0.56      1278\n",
      "weighted avg       0.93      0.76      0.82      1278\n",
      "\n"
     ]
    }
   ],
   "source": [
    "# Report\n",
    "class_report = classification_report(y_test, y_pred)\n",
    "print(\"Classification report:\")\n",
    "print(class_report)"
   ]
  },
  {
   "cell_type": "markdown",
   "id": "d73e3cfe-f6f4-4357-a998-66d93c513a3c",
   "metadata": {},
   "source": [
    "**The model has very good precision for class 0 (98%) but very poor precision for class 1 (17%).<br/>**\n",
    "**The accuracy of 0.76 indicates that the model correctly predicts the class for 76% of examples.**"
   ]
  },
  {
   "cell_type": "markdown",
   "id": "28bb2f59-1ca8-4cba-8ca9-12aaf4142f98",
   "metadata": {},
   "source": [
    "# Decision Trees"
   ]
  },
  {
   "cell_type": "code",
   "execution_count": 52,
   "id": "5b752b01-62f6-49f7-a54f-4f4de25cd66c",
   "metadata": {},
   "outputs": [
    {
     "data": {
      "image/png": "[encoded data removed]",
      "text/plain": [
       "<Figure size 800x600 with 2 Axes>"
      ]
     },
     "metadata": {},
     "output_type": "display_data"
    }
   ],
   "source": [
    "# Model\n",
    "clf = DecisionTreeClassifier(random_state=42)\n",
    "clf.fit(X_train, y_train)\n",
    "y_pred = clf.predict(X_test)\n",
    "\n",
    "# Confusion matrix\n",
    "conf_matrix = confusion_matrix(y_test, y_pred)\n",
    "\n",
    "# Heatmap\n",
    "plt.figure(figsize=(8, 6))\n",
    "sns.heatmap(conf_matrix, annot=True, fmt='d', cmap='BrBG')\n",
    "plt.title('Confusion matrix')\n",
    "plt.xlabel('Predictions')\n",
    "plt.ylabel('True values')\n",
    "plt.show()"
   ]
  },
  {
   "cell_type": "code",
   "execution_count": 53,
   "id": "7eb04e7f-664f-4cae-a9df-c2890a8d9f0b",
   "metadata": {},
   "outputs": [
    {
     "name": "stdout",
     "output_type": "stream",
     "text": [
      "Classification report:\n",
      "              precision    recall  f1-score   support\n",
      "\n",
      "           0       0.95      0.91      0.93      1198\n",
      "           1       0.15      0.23      0.18        80\n",
      "\n",
      "    accuracy                           0.87      1278\n",
      "   macro avg       0.55      0.57      0.55      1278\n",
      "weighted avg       0.90      0.87      0.88      1278\n",
      "\n"
     ]
    }
   ],
   "source": [
    "# Report\n",
    "print(\"Classification report:\")\n",
    "print(classification_report(y_test, y_pred))"
   ]
  },
  {
   "cell_type": "markdown",
   "id": "ac00439c-e284-47ab-9749-b40c22c41a8e",
   "metadata": {},
   "source": [
    "**The model has very good precision for class 0 (95%) but very poor precision for class 1 (15%).<br/>**\n",
    "**The accuracy of 0.87 indicates that the model correctly predicts the class for 87% of examples.<br/>**\n",
    "**As with the regression, we have a very good result for class 0 and a very poor result for class 1.**"
   ]
  },
  {
   "cell_type": "markdown",
   "id": "ea0f8fe1-87ba-4b90-9443-4def2893c851",
   "metadata": {},
   "source": [
    "# Random Forests"
   ]
  },
  {
   "cell_type": "code",
   "execution_count": 54,
   "id": "56d13f63-b8dd-46aa-ae26-8da823a4657b",
   "metadata": {},
   "outputs": [
    {
     "data": {
      "image/png": "[encoded data removed]",
      "text/plain": [
       "<Figure size 800x600 with 2 Axes>"
      ]
     },
     "metadata": {},
     "output_type": "display_data"
    }
   ],
   "source": [
    "# Model\n",
    "rf_model = RandomForestClassifier(random_state=42)\n",
    "rf_model.fit(X_train, y_train)\n",
    "y_pred = rf_model.predict(X_test)\n",
    "\n",
    "# Confusion matrix\n",
    "conf_matrix = confusion_matrix(y_test, y_pred)\n",
    "\n",
    "# Heatmap\n",
    "plt.figure(figsize=(8, 6))\n",
    "sns.heatmap(conf_matrix, annot=True, fmt='d', cmap='BrBG')\n",
    "plt.title('Confusion matrix')\n",
    "plt.xlabel('Predictions')\n",
    "plt.ylabel('True values')\n",
    "plt.show()"
   ]
  },
  {
   "cell_type": "code",
   "execution_count": 55,
   "id": "71507f02-3bad-4cae-a9f1-54e622a9e722",
   "metadata": {},
   "outputs": [
    {
     "name": "stdout",
     "output_type": "stream",
     "text": [
      "Classification report:\n",
      "              precision    recall  f1-score   support\n",
      "\n",
      "           0       0.94      0.97      0.95      1198\n",
      "           1       0.16      0.09      0.11        80\n",
      "\n",
      "    accuracy                           0.91      1278\n",
      "   macro avg       0.55      0.53      0.53      1278\n",
      "weighted avg       0.89      0.91      0.90      1278\n",
      "\n"
     ]
    }
   ],
   "source": [
    "# Report\n",
    "print(\"Classification report:\")\n",
    "print(classification_report(y_test, y_pred))"
   ]
  },
  {
   "cell_type": "markdown",
   "id": "e1ef1ec2-505d-4c5b-a73b-be391417463d",
   "metadata": {},
   "source": [
    "**The model has very good precision for class 0 (94%) and a little better precision for class 1 (16%).<br/>**\n",
    "**The accuracy of 0.91 indicates that the model correctly predicts the class for 91% of examples.<br/>**\n",
    "**We have here our best result for class 0 and our best result result for class 1.**"
   ]
  },
  {
   "cell_type": "markdown",
   "id": "db83f8b5-2dec-4c9e-acc4-1316dfc77db1",
   "metadata": {},
   "source": [
    "<div style=\"display: flex; background-color: RGB(255,114,0);\" >\n",
    "<h1 style=\"margin: auto; padding: 30px; \">The Winner is Random Forrests for this use case.</h1>\n",
    "</div>"
   ]
  },
  {
   "cell_type": "code",
   "execution_count": null,
   "id": "5277b8b5-02c2-494b-9321-f706ea6447fd",
   "metadata": {},
   "outputs": [],
   "source": []
  }
 ],
 "metadata": {
  "kernelspec": {
   "display_name": "Python 3 (ipykernel)",
   "language": "python",
   "name": "python3"
  },
  "language_info": {
   "codemirror_mode": {
    "name": "ipython",
    "version": 3
   },
   "file_extension": ".py",
   "mimetype": "text/x-python",
   "name": "python",
   "nbconvert_exporter": "python",
   "pygments_lexer": "ipython3",
   "version": "3.11.7"
  }
 },
 "nbformat": 4,
 "nbformat_minor": 5
}
